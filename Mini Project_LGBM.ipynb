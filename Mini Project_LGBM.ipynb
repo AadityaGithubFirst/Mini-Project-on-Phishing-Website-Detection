{
 "cells": [
  {
   "cell_type": "markdown",
   "metadata": {
    "id": "tMSsLE25M2WS"
   },
   "source": [
    "# **Data**"
   ]
  },
  {
   "cell_type": "code",
   "execution_count": 1,
   "metadata": {},
   "outputs": [
    {
     "name": "stdout",
     "output_type": "stream",
     "text": [
      "Requirement already satisfied: lightgbm in c:\\users\\aaditya\\anaconda3\\lib\\site-packages (4.1.0)\n",
      "Requirement already satisfied: numpy in c:\\users\\aaditya\\anaconda3\\lib\\site-packages (from lightgbm) (1.24.3)\n",
      "Requirement already satisfied: scipy in c:\\users\\aaditya\\anaconda3\\lib\\site-packages (from lightgbm) (1.11.3)\n"
     ]
    }
   ],
   "source": [
    "!pip install lightgbm"
   ]
  },
  {
   "cell_type": "code",
   "execution_count": 2,
   "metadata": {
    "id": "mxD-WM7U4mOc"
   },
   "outputs": [],
   "source": [
    "import numpy as np\n",
    "import pandas as pd\n",
    "import seaborn as sns\n",
    "from keras.utils import pad_sequences,plot_model\n",
    "from sklearn import model_selection\n",
    "from sklearn.metrics import classification_report,confusion_matrix\n",
    "from string import printable\n",
    "from keras.callbacks import ModelCheckpoint,EarlyStopping\n",
    "from keras.models import Model,load_model\n",
    "from keras import regularizers\n",
    "from keras.layers import Dense, Dropout, Activation, Lambda, Flatten, Conv2D, MaxPooling2D\n",
    "from keras.layers import Input, ELU, LSTM, Embedding, BatchNormalization, Conv1D, MaxPooling1D,GRU,SimpleRNN\n",
    "import matplotlib.pyplot as plt\n",
    "import tensorflow as tf\n",
    "from tensorflow.keras import layers, models\n",
    "from sklearn.model_selection import train_test_split\n",
    "from sklearn.preprocessing import StandardScaler\n",
    "from sklearn.metrics import accuracy_score, classification_report, confusion_matrix\n",
    "from tensorflow.keras.regularizers import l2\n",
    "from tensorflow.keras.optimizers import Adam\n",
    "from scipy.io.arff import loadarff \n",
    "import lightgbm as lgb\n",
    "from sklearn.metrics import accuracy_score, roc_auc_score\n",
    "%matplotlib inline"
   ]
  },
  {
   "cell_type": "code",
   "execution_count": 3,
   "metadata": {
    "id": "O1I-utFVISdo"
   },
   "outputs": [],
   "source": [
    "df=pd.read_csv('phishing_site_urls.csv')"
   ]
  },
  {
   "cell_type": "code",
   "execution_count": 4,
   "metadata": {
    "colab": {
     "base_uri": "https://localhost:8080/"
    },
    "id": "Dj88yuW1IUug",
    "outputId": "3834e439-bcb1-47ab-eaf3-39ee642ca23a"
   },
   "outputs": [
    {
     "data": {
      "text/plain": [
       "(549346, 2)"
      ]
     },
     "execution_count": 4,
     "metadata": {},
     "output_type": "execute_result"
    }
   ],
   "source": [
    "df.shape"
   ]
  },
  {
   "cell_type": "code",
   "execution_count": 5,
   "metadata": {
    "colab": {
     "base_uri": "https://localhost:8080/",
     "height": 35
    },
    "id": "ZaTgbeR4l0n4",
    "outputId": "82325c0a-7c6c-472e-9d7a-1253446f2ef9"
   },
   "outputs": [
    {
     "data": {
      "text/plain": [
       "'www.dghjdgf.com/paypal.co.uk/cycgi-bin/webscrcmd=_home-customer&nav=1/loading.php'"
      ]
     },
     "execution_count": 5,
     "metadata": {},
     "output_type": "execute_result"
    }
   ],
   "source": [
    "df['URL'][1]"
   ]
  },
  {
   "cell_type": "code",
   "execution_count": 6,
   "metadata": {
    "colab": {
     "base_uri": "https://localhost:8080/"
    },
    "id": "CJDeTtSAIXw9",
    "outputId": "70fa97b1-6689-41e3-cbe1-3c6bafcc49ac"
   },
   "outputs": [
    {
     "data": {
      "text/plain": [
       "URL      0\n",
       "Label    0\n",
       "dtype: int64"
      ]
     },
     "execution_count": 6,
     "metadata": {},
     "output_type": "execute_result"
    }
   ],
   "source": [
    "df.isnull().sum()"
   ]
  },
  {
   "cell_type": "code",
   "execution_count": 7,
   "metadata": {
    "colab": {
     "base_uri": "https://localhost:8080/"
    },
    "id": "ofi4MNVTIajM",
    "outputId": "29d13988-5548-48ab-fbdf-fbc6336271aa"
   },
   "outputs": [
    {
     "data": {
      "text/plain": [
       "Label\n",
       "good    392924\n",
       "bad     156422\n",
       "Name: count, dtype: int64"
      ]
     },
     "execution_count": 7,
     "metadata": {},
     "output_type": "execute_result"
    }
   ],
   "source": [
    "df['Label'].value_counts()"
   ]
  },
  {
   "cell_type": "code",
   "execution_count": 8,
   "metadata": {
    "colab": {
     "base_uri": "https://localhost:8080/",
     "height": 466
    },
    "id": "-w4PPdGXIbUD",
    "outputId": "bf25af93-2a3f-4a56-bd1b-25381c7e08f6"
   },
   "outputs": [
    {
     "name": "stderr",
     "output_type": "stream",
     "text": [
      "C:\\Users\\Aaditya\\anaconda3\\Lib\\site-packages\\seaborn\\_oldcore.py:1498: FutureWarning: is_categorical_dtype is deprecated and will be removed in a future version. Use isinstance(dtype, CategoricalDtype) instead\n",
      "  if pd.api.types.is_categorical_dtype(vector):\n",
      "C:\\Users\\Aaditya\\anaconda3\\Lib\\site-packages\\seaborn\\_oldcore.py:1498: FutureWarning: is_categorical_dtype is deprecated and will be removed in a future version. Use isinstance(dtype, CategoricalDtype) instead\n",
      "  if pd.api.types.is_categorical_dtype(vector):\n",
      "C:\\Users\\Aaditya\\anaconda3\\Lib\\site-packages\\seaborn\\_oldcore.py:1498: FutureWarning: is_categorical_dtype is deprecated and will be removed in a future version. Use isinstance(dtype, CategoricalDtype) instead\n",
      "  if pd.api.types.is_categorical_dtype(vector):\n"
     ]
    },
    {
     "data": {
      "text/plain": [
       "<Axes: xlabel='Label', ylabel='count'>"
      ]
     },
     "execution_count": 8,
     "metadata": {},
     "output_type": "execute_result"
    },
    {
     "data": {
      "image/png": "[encoded data removed]",
      "text/plain": [
       "<Figure size 640x480 with 1 Axes>"
      ]
     },
     "metadata": {},
     "output_type": "display_data"
    }
   ],
   "source": [
    "sns.countplot(x='Label', data=df)"
   ]
  },
  {
   "cell_type": "code",
   "execution_count": 9,
   "metadata": {},
   "outputs": [
    {
     "data": {
      "text/plain": [
       "Label\n",
       "1    392924\n",
       "0    156422\n",
       "Name: count, dtype: int64"
      ]
     },
     "execution_count": 9,
     "metadata": {},
     "output_type": "execute_result"
    }
   ],
   "source": [
    "df.loc[df[\"Label\"] == 'bad', \"Label\"] = 0\n",
    "df.loc[df[\"Label\"] == \"good\", \"Label\"] = 1\n",
    "df.Label.value_counts()"
   ]
  },
  {
   "cell_type": "code",
   "execution_count": 10,
   "metadata": {},
   "outputs": [],
   "source": [
    "class_1_indices = np.where(df.Label == 1)[0][:156422]\n",
    "class_0_indices = np.where(df.Label == 0)[0]"
   ]
  },
  {
   "cell_type": "code",
   "execution_count": 11,
   "metadata": {
    "colab": {
     "base_uri": "https://localhost:8080/"
    },
    "id": "vkPzVw_HAPvJ",
    "outputId": "ae1ec0bd-e06b-4e05-f799-39dd9d80f7c7"
   },
   "outputs": [
    {
     "data": {
      "text/html": [
       "<div>\n",
       "<style scoped>\n",
       "    .dataframe tbody tr th:only-of-type {\n",
       "        vertical-align: middle;\n",
       "    }\n",
       "\n",
       "    .dataframe tbody tr th {\n",
       "        vertical-align: top;\n",
       "    }\n",
       "\n",
       "    .dataframe thead th {\n",
       "        text-align: right;\n",
       "    }\n",
       "</style>\n",
       "<table border=\"1\" class=\"dataframe\">\n",
       "  <thead>\n",
       "    <tr style=\"text-align: right;\">\n",
       "      <th></th>\n",
       "      <th>URL</th>\n",
       "      <th>Label</th>\n",
       "    </tr>\n",
       "  </thead>\n",
       "  <tbody>\n",
       "    <tr>\n",
       "      <th>0</th>\n",
       "      <td>nobell.it/70ffb52d079109dca5664cce6f317373782/...</td>\n",
       "      <td>0</td>\n",
       "    </tr>\n",
       "    <tr>\n",
       "      <th>1</th>\n",
       "      <td>www.dghjdgf.com/paypal.co.uk/cycgi-bin/webscrc...</td>\n",
       "      <td>0</td>\n",
       "    </tr>\n",
       "    <tr>\n",
       "      <th>2</th>\n",
       "      <td>serviciosbys.com/paypal.cgi.bin.get-into.herf....</td>\n",
       "      <td>0</td>\n",
       "    </tr>\n",
       "    <tr>\n",
       "      <th>3</th>\n",
       "      <td>mail.printakid.com/www.online.americanexpress....</td>\n",
       "      <td>0</td>\n",
       "    </tr>\n",
       "    <tr>\n",
       "      <th>4</th>\n",
       "      <td>thewhiskeydregs.com/wp-content/themes/widescre...</td>\n",
       "      <td>0</td>\n",
       "    </tr>\n",
       "  </tbody>\n",
       "</table>\n",
       "</div>"
      ],
      "text/plain": [
       "                                                 URL Label\n",
       "0  nobell.it/70ffb52d079109dca5664cce6f317373782/...     0\n",
       "1  www.dghjdgf.com/paypal.co.uk/cycgi-bin/webscrc...     0\n",
       "2  serviciosbys.com/paypal.cgi.bin.get-into.herf....     0\n",
       "3  mail.printakid.com/www.online.americanexpress....     0\n",
       "4  thewhiskeydregs.com/wp-content/themes/widescre...     0"
      ]
     },
     "execution_count": 11,
     "metadata": {},
     "output_type": "execute_result"
    }
   ],
   "source": [
    "df.head()"
   ]
  },
  {
   "cell_type": "markdown",
   "metadata": {
    "id": "k_VarkZS5DQS"
   },
   "source": [
    "# example preprocessing"
   ]
  },
  {
   "cell_type": "code",
   "execution_count": 12,
   "metadata": {
    "colab": {
     "base_uri": "https://localhost:8080/"
    },
    "id": "b4v0an4OOeM-",
    "outputId": "d6e86eec-bb71-4e14-b609-14e311a0a0be"
   },
   "outputs": [
    {
     "name": "stdout",
     "output_type": "stream",
     "text": [
      "0 = 1 \n",
      "\n",
      "1 = 2 \n",
      "\n",
      "2 = 3 \n",
      "\n",
      "3 = 4 \n",
      "\n",
      "4 = 5 \n",
      "\n",
      "5 = 6 \n",
      "\n",
      "6 = 7 \n",
      "\n",
      "7 = 8 \n",
      "\n",
      "8 = 9 \n",
      "\n",
      "9 = 10 \n",
      "\n",
      "a = 11 \n",
      "\n",
      "b = 12 \n",
      "\n",
      "c = 13 \n",
      "\n",
      "d = 14 \n",
      "\n",
      "e = 15 \n",
      "\n",
      "f = 16 \n",
      "\n",
      "g = 17 \n",
      "\n",
      "h = 18 \n",
      "\n",
      "i = 19 \n",
      "\n",
      "j = 20 \n",
      "\n",
      "k = 21 \n",
      "\n",
      "l = 22 \n",
      "\n",
      "m = 23 \n",
      "\n",
      "n = 24 \n",
      "\n",
      "o = 25 \n",
      "\n",
      "p = 26 \n",
      "\n",
      "q = 27 \n",
      "\n",
      "r = 28 \n",
      "\n",
      "s = 29 \n",
      "\n",
      "t = 30 \n",
      "\n",
      "u = 31 \n",
      "\n",
      "v = 32 \n",
      "\n",
      "w = 33 \n",
      "\n",
      "x = 34 \n",
      "\n",
      "y = 35 \n",
      "\n",
      "z = 36 \n",
      "\n",
      "A = 37 \n",
      "\n",
      "B = 38 \n",
      "\n",
      "C = 39 \n",
      "\n",
      "D = 40 \n",
      "\n",
      "E = 41 \n",
      "\n",
      "F = 42 \n",
      "\n",
      "G = 43 \n",
      "\n",
      "H = 44 \n",
      "\n",
      "I = 45 \n",
      "\n",
      "J = 46 \n",
      "\n",
      "K = 47 \n",
      "\n",
      "L = 48 \n",
      "\n",
      "M = 49 \n",
      "\n",
      "N = 50 \n",
      "\n",
      "O = 51 \n",
      "\n",
      "P = 52 \n",
      "\n",
      "Q = 53 \n",
      "\n",
      "R = 54 \n",
      "\n",
      "S = 55 \n",
      "\n",
      "T = 56 \n",
      "\n",
      "U = 57 \n",
      "\n",
      "V = 58 \n",
      "\n",
      "W = 59 \n",
      "\n",
      "X = 60 \n",
      "\n",
      "Y = 61 \n",
      "\n",
      "Z = 62 \n",
      "\n",
      "! = 63 \n",
      "\n",
      "\" = 64 \n",
      "\n",
      "# = 65 \n",
      "\n",
      "$ = 66 \n",
      "\n",
      "% = 67 \n",
      "\n",
      "& = 68 \n",
      "\n",
      "' = 69 \n",
      "\n",
      "( = 70 \n",
      "\n",
      ") = 71 \n",
      "\n",
      "* = 72 \n",
      "\n",
      "+ = 73 \n",
      "\n",
      ", = 74 \n",
      "\n",
      "- = 75 \n",
      "\n",
      ". = 76 \n",
      "\n",
      "/ = 77 \n",
      "\n",
      ": = 78 \n",
      "\n",
      "; = 79 \n",
      "\n",
      "< = 80 \n",
      "\n",
      "= = 81 \n",
      "\n",
      "> = 82 \n",
      "\n",
      "? = 83 \n",
      "\n",
      "@ = 84 \n",
      "\n",
      "[ = 85 \n",
      "\n",
      "\\ = 86 \n",
      "\n",
      "] = 87 \n",
      "\n",
      "^ = 88 \n",
      "\n",
      "_ = 89 \n",
      "\n",
      "` = 90 \n",
      "\n",
      "{ = 91 \n",
      "\n",
      "| = 92 \n",
      "\n",
      "} = 93 \n",
      "\n",
      "~ = 94 \n",
      "\n",
      "  = 95 \n",
      "\n",
      "\t = 96 \n",
      "\n",
      "\n",
      " = 97 \n",
      "\n",
      "\r",
      " = 98 \n",
      "\n",
      "\u000b",
      " = 99 \n",
      "\n",
      "\f",
      " = 100 \n",
      "\n"
     ]
    }
   ],
   "source": [
    "character_encoding=[printable.index(x) + 1 for x in printable]\n",
    "for x in range(0,len(character_encoding)):\n",
    "  print(printable[x],\"=\",character_encoding[x],\"\\n\")"
   ]
  },
  {
   "cell_type": "code",
   "execution_count": 13,
   "metadata": {
    "colab": {
     "base_uri": "https://localhost:8080/"
    },
    "id": "EeBsvsF3PSNs",
    "outputId": "b52212e1-0a4d-43c3-a61f-f8e234382544"
   },
   "outputs": [
    {
     "name": "stdout",
     "output_type": "stream",
     "text": [
      "[18, 30, 30, 26, 29, 78, 77, 77, 33, 33, 33, 76, 11, 26, 26, 22, 15, 76, 13, 25, 23, 77]\n"
     ]
    }
   ],
   "source": [
    "url='https://www.apple.com/'\n",
    "encoded=[printable.index(x) + 1 for x in url if x in printable]\n",
    "print(encoded)"
   ]
  },
  {
   "cell_type": "markdown",
   "metadata": {
    "id": "xgviOiVA5qCI"
   },
   "source": [
    "# **Pre-processing**"
   ]
  },
  {
   "cell_type": "code",
   "execution_count": 14,
   "metadata": {
    "id": "bjYnayX6IkUp"
   },
   "outputs": [],
   "source": [
    "#1) encoding the characters in URL from 1 to 100, using nested list comprehension.\n",
    "url_encoded = [[printable.index(x) + 1 for x in url if x in printable] for url in df.URL]"
   ]
  },
  {
   "cell_type": "code",
   "execution_count": 15,
   "metadata": {
    "id": "B6Y2M9GcXVx5"
   },
   "outputs": [],
   "source": [
    "#2)Length normalization, The length of all URL's normalized at fixed length, if the (url length< fixed length) zeroes are added at front of the url,\n",
    "# if the (url length> fixed length) the etra character are intercepted from the end\n",
    "max_len=75\n",
    "X = pad_sequences(url_encoded, maxlen=max_len, truncating='post')"
   ]
  },
  {
   "cell_type": "code",
   "execution_count": 16,
   "metadata": {},
   "outputs": [],
   "source": [
    "X = np.concatenate((X[class_1_indices], X[class_0_indices[:156422]]))"
   ]
  },
  {
   "cell_type": "code",
   "execution_count": 17,
   "metadata": {
    "colab": {
     "base_uri": "https://localhost:8080/"
    },
    "id": "7-if-Sa6Xx-U",
    "outputId": "b8f5ee0b-1733-4618-c109-d306353081d9"
   },
   "outputs": [
    {
     "data": {
      "text/plain": [
       "(312844, 75)"
      ]
     },
     "execution_count": 17,
     "metadata": {},
     "output_type": "execute_result"
    }
   ],
   "source": [
    "X.shape"
   ]
  },
  {
   "cell_type": "code",
   "execution_count": 18,
   "metadata": {},
   "outputs": [
    {
     "data": {
      "text/plain": [
       "array([[15, 29, 34, ..., 14, 98, 20],\n",
       "       [33, 33, 33, ..., 62, 55, 96],\n",
       "       [69, 33, 33, ..., 26, 22, 67],\n",
       "       ...,\n",
       "       [ 0,  0,  0, ..., 28, 17, 77],\n",
       "       [ 0,  0,  0, ..., 28, 17, 77],\n",
       "       [ 0,  0,  0, ..., 24, 16, 25]])"
      ]
     },
     "execution_count": 18,
     "metadata": {},
     "output_type": "execute_result"
    }
   ],
   "source": [
    "X"
   ]
  },
  {
   "cell_type": "code",
   "execution_count": 19,
   "metadata": {
    "id": "rlc3sobgXgLP"
   },
   "outputs": [],
   "source": [
    "y = np.array(df.Label)"
   ]
  },
  {
   "cell_type": "code",
   "execution_count": 20,
   "metadata": {},
   "outputs": [],
   "source": [
    "y = np.concatenate((y[class_1_indices], y[class_0_indices[:156422]]))"
   ]
  },
  {
   "cell_type": "code",
   "execution_count": 21,
   "metadata": {},
   "outputs": [],
   "source": [
    "X_train, X_test, y_train, y_test = train_test_split(X, y, test_size=0.2, random_state=42)"
   ]
  },
  {
   "cell_type": "code",
   "execution_count": 22,
   "metadata": {},
   "outputs": [],
   "source": [
    "train_data = lgb.Dataset(X_train, label=y_train)\n",
    "test_data = lgb.Dataset(X_test, label=y_test, reference=train_data)"
   ]
  },
  {
   "cell_type": "code",
   "execution_count": 23,
   "metadata": {},
   "outputs": [],
   "source": [
    "# Define hyperparameters\n",
    "params = {\n",
    "    'objective': 'binary',\n",
    "    'metric': 'binary_logloss',\n",
    "    'boosting_type': 'gbdt',\n",
    "    'num_leaves': 31,\n",
    "    'learning_rate': 0.05,\n",
    "    'feature_fraction': 0.9,\n",
    "    'bagging_fraction': 0.8,\n",
    "    'bagging_freq': 5,\n",
    "    'verbose': -1\n",
    "}"
   ]
  },
  {
   "cell_type": "code",
   "execution_count": 24,
   "metadata": {},
   "outputs": [],
   "source": [
    "# Train the LightGBM model\n",
    "num_round = 1000  # Number of boosting rounds\n",
    "bst = lgb.train(params, train_data, num_round, valid_sets=[test_data])"
   ]
  },
  {
   "cell_type": "code",
   "execution_count": 25,
   "metadata": {},
   "outputs": [],
   "source": [
    "# Make predictions\n",
    "y_pred = bst.predict(X_test, num_iteration=bst.best_iteration)"
   ]
  },
  {
   "cell_type": "code",
   "execution_count": 26,
   "metadata": {},
   "outputs": [
    {
     "data": {
      "text/plain": [
       "array([0.12393047, 0.01388597, 0.01951732, ..., 0.82823627, 0.91276895,\n",
       "       0.99416065])"
      ]
     },
     "execution_count": 26,
     "metadata": {},
     "output_type": "execute_result"
    }
   ],
   "source": [
    "y_pred"
   ]
  },
  {
   "cell_type": "code",
   "execution_count": 27,
   "metadata": {},
   "outputs": [],
   "source": [
    "# Convert probabilities to binary predictions\n",
    "y_pred_binary = (y_pred >= 0.5).astype(int)"
   ]
  },
  {
   "cell_type": "code",
   "execution_count": 28,
   "metadata": {},
   "outputs": [],
   "source": [
    "# Evaluate the model\n",
    "accuracy = accuracy_score(y_test.astype(int), y_pred_binary)\n",
    "roc_auc = roc_auc_score(y_test.astype(int), y_pred)"
   ]
  },
  {
   "cell_type": "code",
   "execution_count": 29,
   "metadata": {},
   "outputs": [
    {
     "data": {
      "text/plain": [
       "0.9224695935687002"
      ]
     },
     "execution_count": 29,
     "metadata": {},
     "output_type": "execute_result"
    }
   ],
   "source": [
    "accuracy"
   ]
  },
  {
   "cell_type": "code",
   "execution_count": 30,
   "metadata": {},
   "outputs": [
    {
     "data": {
      "text/plain": [
       "0.9757329753801482"
      ]
     },
     "execution_count": 30,
     "metadata": {},
     "output_type": "execute_result"
    }
   ],
   "source": [
    "roc_auc"
   ]
  },
  {
   "cell_type": "code",
   "execution_count": 31,
   "metadata": {
    "colab": {
     "base_uri": "https://localhost:8080/"
    },
    "id": "RTHngenqzWBG",
    "outputId": "f64fc4c1-a986-4220-c4a2-061e746d3393"
   },
   "outputs": [
    {
     "data": {
      "text/plain": [
       "array([[28341,  2996],\n",
       "       [ 1855, 29377]], dtype=int64)"
      ]
     },
     "execution_count": 31,
     "metadata": {},
     "output_type": "execute_result"
    }
   ],
   "source": [
    "cm=confusion_matrix(y_test.astype(int), y_pred_binary)\n",
    "cm"
   ]
  },
  {
   "cell_type": "code",
   "execution_count": 33,
   "metadata": {
    "colab": {
     "base_uri": "https://localhost:8080/",
     "height": 449
    },
    "id": "yFNTRTpn2qRe",
    "outputId": "16d08718-6903-47f2-a2ef-7d57533da9a8"
   },
   "outputs": [
    {
     "data": {
      "image/png": "[encoded data removed]",
      "text/plain": [
       "<Figure size 640x480 with 2 Axes>"
      ]
     },
     "metadata": {},
     "output_type": "display_data"
    }
   ],
   "source": [
    "sns.heatmap(cm, annot=True, cmap='coolwarm',fmt='0.3f')\n",
    "plt.ylabel(\"Actual value\")\n",
    "plt.xlabel(\"Predicted value\")\n",
    "plt.show()"
   ]
  },
  {
   "cell_type": "code",
   "execution_count": 34,
   "metadata": {},
   "outputs": [
    {
     "data": {
      "text/plain": [
       "0.9224695935687002"
      ]
     },
     "execution_count": 34,
     "metadata": {},
     "output_type": "execute_result"
    }
   ],
   "source": [
    "accuracy = (cm[0][0]+cm[1][1])/(cm[0][0]+cm[1][1]+cm[0][1]+cm[1][0])\n",
    "accuracy"
   ]
  },
  {
   "cell_type": "code",
   "execution_count": 35,
   "metadata": {
    "colab": {
     "base_uri": "https://localhost:8080/"
    },
    "id": "UGWswdgi3pTh",
    "outputId": "da1f354f-f112-4968-8f5c-6eb93d6da3e6"
   },
   "outputs": [
    {
     "name": "stdout",
     "output_type": "stream",
     "text": [
      "              precision    recall  f1-score   support\n",
      "\n",
      "           0       0.94      0.90      0.92     31337\n",
      "           1       0.91      0.94      0.92     31232\n",
      "\n",
      "    accuracy                           0.92     62569\n",
      "   macro avg       0.92      0.92      0.92     62569\n",
      "weighted avg       0.92      0.92      0.92     62569\n",
      "\n"
     ]
    }
   ],
   "source": [
    "print(classification_report(y_test.astype(int),y_pred_binary))"
   ]
  },
  {
   "cell_type": "markdown",
   "metadata": {
    "id": "NbkYuXQohLeL"
   },
   "source": [
    "# ***TESTING***"
   ]
  },
  {
   "cell_type": "code",
   "execution_count": 48,
   "metadata": {
    "id": "3-qK-r65lqHw"
   },
   "outputs": [],
   "source": [
    "test_url='https://www.youtube.com/subscriptions'\n",
    "encoded_url=[[printable.index(x) + 1 for x in test_url if x in printable]]\n",
    "max_len=75\n",
    "encoded_url = np.asarray(encoded_url).astype(np.float32)\n",
    "encoded_url = pad_sequences(encoded_url, maxlen=max_len, truncating='post')"
   ]
  },
  {
   "cell_type": "code",
   "execution_count": 49,
   "metadata": {},
   "outputs": [],
   "source": [
    "# Make predictions\n",
    "y_predicted = bst.predict(encoded_url, num_iteration=bst.best_iteration)"
   ]
  },
  {
   "cell_type": "code",
   "execution_count": 50,
   "metadata": {},
   "outputs": [
    {
     "data": {
      "text/plain": [
       "array([0.88449121])"
      ]
     },
     "execution_count": 50,
     "metadata": {},
     "output_type": "execute_result"
    }
   ],
   "source": [
    "y_predicted"
   ]
  },
  {
   "cell_type": "code",
   "execution_count": null,
   "metadata": {},
   "outputs": [],
   "source": [
    "if y_predicted>=0.5:\n",
    "    print(1)\n",
    "else:\n",
    "    print(0)"
   ]
  },
  {
   "cell_type": "code",
   "execution_count": null,
   "metadata": {},
   "outputs": [],
   "source": [
    "test_url='website.com/paypal.com/enterspages.com/QC/St-Leonard-apartment.html'\n",
    "encoded_url=[[printable.index(x) + 1 for x in test_url if x in printable]]\n",
    "max_len=75\n",
    "encoded_url = np.asarray(encoded_url).astype(np.float32)\n",
    "encoded_url = pad_sequences(encoded_url, maxlen=max_len, truncating='post')\n",
    "cnn_gru_model.predict(encoded_url,batch_size=1)"
   ]
  },
  {
   "cell_type": "code",
   "execution_count": 55,
   "metadata": {
    "id": "3-qK-r65lqHw"
   },
   "outputs": [],
   "source": [
    "test_url='website.com/paypal.com/St-Leonard-apartment.html'\n",
    "encoded_url=[[printable.index(x) + 1 for x in test_url if x in printable]]\n",
    "max_len=75\n",
    "encoded_url = np.asarray(encoded_url).astype(np.float32)\n",
    "encoded_url = pad_sequences(encoded_url, maxlen=max_len, truncating='post')"
   ]
  },
  {
   "cell_type": "code",
   "execution_count": 56,
   "metadata": {},
   "outputs": [
    {
     "data": {
      "text/plain": [
       "array([0.61470536])"
      ]
     },
     "execution_count": 56,
     "metadata": {},
     "output_type": "execute_result"
    }
   ],
   "source": [
    "y_prediction_2 = bst.predict(encoded_url, num_iteration=bst.best_iteration)\n",
    "y_prediction_2"
   ]
  }
 ],
 "metadata": {
  "accelerator": "GPU",
  "colab": {
   "gpuType": "T4",
   "provenance": []
  },
  "kernelspec": {
   "display_name": "Python 3 (ipykernel)",
   "language": "python",
   "name": "python3"
  },
  "language_info": {
   "codemirror_mode": {
    "name": "ipython",
    "version": 3
   },
   "file_extension": ".py",
   "mimetype": "text/x-python",
   "name": "python",
   "nbconvert_exporter": "python",
   "pygments_lexer": "ipython3",
   "version": "3.11.5"
  }
 },
 "nbformat": 4,
 "nbformat_minor": 1
}

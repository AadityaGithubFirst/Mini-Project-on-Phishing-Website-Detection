{
 "cells": [
  {
   "cell_type": "markdown",
   "metadata": {
    "id": "tMSsLE25M2WS"
   },
   "source": [
    "# **Data**"
   ]
  },
  {
   "cell_type": "code",
   "execution_count": 1,
   "metadata": {
    "id": "mxD-WM7U4mOc"
   },
   "outputs": [],
   "source": [
    "import numpy as np\n",
    "import pandas as pd\n",
    "import seaborn as sns\n",
    "from keras.utils import pad_sequences,plot_model\n",
    "from sklearn import model_selection\n",
    "from sklearn.metrics import classification_report,confusion_matrix\n",
    "from string import printable\n",
    "from keras.callbacks import ModelCheckpoint,EarlyStopping\n",
    "from keras.models import Model,load_model\n",
    "from keras import regularizers\n",
    "from keras.layers import Dense, Dropout, Activation, Lambda, Flatten\n",
    "from keras.layers import Input, ELU, LSTM, Embedding, BatchNormalization, Conv1D, MaxPooling1D,GRU,SimpleRNN\n",
    "import matplotlib.pyplot as plt\n",
    "import tensorflow as tf\n",
    "from tensorflow.keras import layers, models\n",
    "from sklearn.model_selection import train_test_split\n",
    "from sklearn.preprocessing import StandardScaler\n",
    "from sklearn.metrics import accuracy_score, classification_report, confusion_matrix\n",
    "from tensorflow.keras.regularizers import l2\n",
    "from tensorflow.keras.optimizers import Adam\n",
    "%matplotlib inline"
   ]
  },
  {
   "cell_type": "code",
   "execution_count": 2,
   "metadata": {},
   "outputs": [],
   "source": [
    "import tensorboard\n",
    "from datetime import datetime\n",
    "from packaging import version"
   ]
  },
  {
   "cell_type": "code",
   "execution_count": 3,
   "metadata": {},
   "outputs": [],
   "source": [
    "# Define the Keras TensorBoard callback.\n",
    "logdir=\"logs/fit/\" + datetime.now().strftime(\"%Y%m%d-%H%M%S\")\n",
    "tensorboard_callback = tf.keras.callbacks.TensorBoard(log_dir=logdir)"
   ]
  },
  {
   "cell_type": "code",
   "execution_count": 4,
   "metadata": {
    "id": "O1I-utFVISdo"
   },
   "outputs": [],
   "source": [
    "df=pd.read_csv('phishing_site_urls.csv')"
   ]
  },
  {
   "cell_type": "code",
   "execution_count": 5,
   "metadata": {
    "colab": {
     "base_uri": "https://localhost:8080/"
    },
    "id": "Dj88yuW1IUug",
    "outputId": "3834e439-bcb1-47ab-eaf3-39ee642ca23a"
   },
   "outputs": [
    {
     "data": {
      "text/plain": [
       "(549346, 2)"
      ]
     },
     "execution_count": 5,
     "metadata": {},
     "output_type": "execute_result"
    }
   ],
   "source": [
    "df.shape"
   ]
  },
  {
   "cell_type": "code",
   "execution_count": 6,
   "metadata": {
    "colab": {
     "base_uri": "https://localhost:8080/",
     "height": 35
    },
    "id": "ZaTgbeR4l0n4",
    "outputId": "82325c0a-7c6c-472e-9d7a-1253446f2ef9"
   },
   "outputs": [
    {
     "data": {
      "text/plain": [
       "'www.dghjdgf.com/paypal.co.uk/cycgi-bin/webscrcmd=_home-customer&nav=1/loading.php'"
      ]
     },
     "execution_count": 6,
     "metadata": {},
     "output_type": "execute_result"
    }
   ],
   "source": [
    "df['URL'][1]"
   ]
  },
  {
   "cell_type": "code",
   "execution_count": 7,
   "metadata": {
    "colab": {
     "base_uri": "https://localhost:8080/"
    },
    "id": "CJDeTtSAIXw9",
    "outputId": "70fa97b1-6689-41e3-cbe1-3c6bafcc49ac"
   },
   "outputs": [
    {
     "data": {
      "text/plain": [
       "URL      0\n",
       "Label    0\n",
       "dtype: int64"
      ]
     },
     "execution_count": 7,
     "metadata": {},
     "output_type": "execute_result"
    }
   ],
   "source": [
    "df.isnull().sum()"
   ]
  },
  {
   "cell_type": "code",
   "execution_count": 8,
   "metadata": {
    "colab": {
     "base_uri": "https://localhost:8080/"
    },
    "id": "ofi4MNVTIajM",
    "outputId": "29d13988-5548-48ab-fbdf-fbc6336271aa"
   },
   "outputs": [
    {
     "data": {
      "text/plain": [
       "Label\n",
       "good    392924\n",
       "bad     156422\n",
       "Name: count, dtype: int64"
      ]
     },
     "execution_count": 8,
     "metadata": {},
     "output_type": "execute_result"
    }
   ],
   "source": [
    "df['Label'].value_counts()"
   ]
  },
  {
   "cell_type": "code",
   "execution_count": 9,
   "metadata": {
    "colab": {
     "base_uri": "https://localhost:8080/",
     "height": 466
    },
    "id": "-w4PPdGXIbUD",
    "outputId": "bf25af93-2a3f-4a56-bd1b-25381c7e08f6"
   },
   "outputs": [
    {
     "name": "stderr",
     "output_type": "stream",
     "text": [
      "C:\\Users\\Aaditya\\anaconda3\\Lib\\site-packages\\seaborn\\_oldcore.py:1498: FutureWarning: is_categorical_dtype is deprecated and will be removed in a future version. Use isinstance(dtype, CategoricalDtype) instead\n",
      "  if pd.api.types.is_categorical_dtype(vector):\n",
      "C:\\Users\\Aaditya\\anaconda3\\Lib\\site-packages\\seaborn\\_oldcore.py:1498: FutureWarning: is_categorical_dtype is deprecated and will be removed in a future version. Use isinstance(dtype, CategoricalDtype) instead\n",
      "  if pd.api.types.is_categorical_dtype(vector):\n",
      "C:\\Users\\Aaditya\\anaconda3\\Lib\\site-packages\\seaborn\\_oldcore.py:1498: FutureWarning: is_categorical_dtype is deprecated and will be removed in a future version. Use isinstance(dtype, CategoricalDtype) instead\n",
      "  if pd.api.types.is_categorical_dtype(vector):\n"
     ]
    },
    {
     "data": {
      "text/plain": [
       "<Axes: xlabel='Label', ylabel='count'>"
      ]
     },
     "execution_count": 9,
     "metadata": {},
     "output_type": "execute_result"
    },
    {
     "data": {
      "image/png": "[encoded data removed]",
      "text/plain": [
       "<Figure size 640x480 with 1 Axes>"
      ]
     },
     "metadata": {},
     "output_type": "display_data"
    }
   ],
   "source": [
    "sns.countplot(x='Label', data=df)"
   ]
  },
  {
   "cell_type": "code",
   "execution_count": 10,
   "metadata": {},
   "outputs": [
    {
     "data": {
      "text/plain": [
       "Label\n",
       "1    392924\n",
       "0    156422\n",
       "Name: count, dtype: int64"
      ]
     },
     "execution_count": 10,
     "metadata": {},
     "output_type": "execute_result"
    }
   ],
   "source": [
    "df.loc[df[\"Label\"] == 'bad', \"Label\"] = 0\n",
    "df.loc[df[\"Label\"] == \"good\", \"Label\"] = 1\n",
    "df.Label.value_counts()"
   ]
  },
  {
   "cell_type": "code",
   "execution_count": 11,
   "metadata": {
    "colab": {
     "base_uri": "https://localhost:8080/"
    },
    "id": "vkPzVw_HAPvJ",
    "outputId": "ae1ec0bd-e06b-4e05-f799-39dd9d80f7c7"
   },
   "outputs": [
    {
     "data": {
      "text/html": [
       "<div>\n",
       "<style scoped>\n",
       "    .dataframe tbody tr th:only-of-type {\n",
       "        vertical-align: middle;\n",
       "    }\n",
       "\n",
       "    .dataframe tbody tr th {\n",
       "        vertical-align: top;\n",
       "    }\n",
       "\n",
       "    .dataframe thead th {\n",
       "        text-align: right;\n",
       "    }\n",
       "</style>\n",
       "<table border=\"1\" class=\"dataframe\">\n",
       "  <thead>\n",
       "    <tr style=\"text-align: right;\">\n",
       "      <th></th>\n",
       "      <th>URL</th>\n",
       "      <th>Label</th>\n",
       "    </tr>\n",
       "  </thead>\n",
       "  <tbody>\n",
       "    <tr>\n",
       "      <th>0</th>\n",
       "      <td>nobell.it/70ffb52d079109dca5664cce6f317373782/...</td>\n",
       "      <td>0</td>\n",
       "    </tr>\n",
       "    <tr>\n",
       "      <th>1</th>\n",
       "      <td>www.dghjdgf.com/paypal.co.uk/cycgi-bin/webscrc...</td>\n",
       "      <td>0</td>\n",
       "    </tr>\n",
       "    <tr>\n",
       "      <th>2</th>\n",
       "      <td>serviciosbys.com/paypal.cgi.bin.get-into.herf....</td>\n",
       "      <td>0</td>\n",
       "    </tr>\n",
       "    <tr>\n",
       "      <th>3</th>\n",
       "      <td>mail.printakid.com/www.online.americanexpress....</td>\n",
       "      <td>0</td>\n",
       "    </tr>\n",
       "    <tr>\n",
       "      <th>4</th>\n",
       "      <td>thewhiskeydregs.com/wp-content/themes/widescre...</td>\n",
       "      <td>0</td>\n",
       "    </tr>\n",
       "  </tbody>\n",
       "</table>\n",
       "</div>"
      ],
      "text/plain": [
       "                                                 URL Label\n",
       "0  nobell.it/70ffb52d079109dca5664cce6f317373782/...     0\n",
       "1  www.dghjdgf.com/paypal.co.uk/cycgi-bin/webscrc...     0\n",
       "2  serviciosbys.com/paypal.cgi.bin.get-into.herf....     0\n",
       "3  mail.printakid.com/www.online.americanexpress....     0\n",
       "4  thewhiskeydregs.com/wp-content/themes/widescre...     0"
      ]
     },
     "execution_count": 11,
     "metadata": {},
     "output_type": "execute_result"
    }
   ],
   "source": [
    "df.head()"
   ]
  },
  {
   "cell_type": "markdown",
   "metadata": {
    "id": "k_VarkZS5DQS"
   },
   "source": [
    "# example preprocessing"
   ]
  },
  {
   "cell_type": "code",
   "execution_count": 12,
   "metadata": {
    "colab": {
     "base_uri": "https://localhost:8080/"
    },
    "id": "b4v0an4OOeM-",
    "outputId": "d6e86eec-bb71-4e14-b609-14e311a0a0be"
   },
   "outputs": [
    {
     "name": "stdout",
     "output_type": "stream",
     "text": [
      "0 = 1 \n",
      "\n",
      "1 = 2 \n",
      "\n",
      "2 = 3 \n",
      "\n",
      "3 = 4 \n",
      "\n",
      "4 = 5 \n",
      "\n",
      "5 = 6 \n",
      "\n",
      "6 = 7 \n",
      "\n",
      "7 = 8 \n",
      "\n",
      "8 = 9 \n",
      "\n",
      "9 = 10 \n",
      "\n",
      "a = 11 \n",
      "\n",
      "b = 12 \n",
      "\n",
      "c = 13 \n",
      "\n",
      "d = 14 \n",
      "\n",
      "e = 15 \n",
      "\n",
      "f = 16 \n",
      "\n",
      "g = 17 \n",
      "\n",
      "h = 18 \n",
      "\n",
      "i = 19 \n",
      "\n",
      "j = 20 \n",
      "\n",
      "k = 21 \n",
      "\n",
      "l = 22 \n",
      "\n",
      "m = 23 \n",
      "\n",
      "n = 24 \n",
      "\n",
      "o = 25 \n",
      "\n",
      "p = 26 \n",
      "\n",
      "q = 27 \n",
      "\n",
      "r = 28 \n",
      "\n",
      "s = 29 \n",
      "\n",
      "t = 30 \n",
      "\n",
      "u = 31 \n",
      "\n",
      "v = 32 \n",
      "\n",
      "w = 33 \n",
      "\n",
      "x = 34 \n",
      "\n",
      "y = 35 \n",
      "\n",
      "z = 36 \n",
      "\n",
      "A = 37 \n",
      "\n",
      "B = 38 \n",
      "\n",
      "C = 39 \n",
      "\n",
      "D = 40 \n",
      "\n",
      "E = 41 \n",
      "\n",
      "F = 42 \n",
      "\n",
      "G = 43 \n",
      "\n",
      "H = 44 \n",
      "\n",
      "I = 45 \n",
      "\n",
      "J = 46 \n",
      "\n",
      "K = 47 \n",
      "\n",
      "L = 48 \n",
      "\n",
      "M = 49 \n",
      "\n",
      "N = 50 \n",
      "\n",
      "O = 51 \n",
      "\n",
      "P = 52 \n",
      "\n",
      "Q = 53 \n",
      "\n",
      "R = 54 \n",
      "\n",
      "S = 55 \n",
      "\n",
      "T = 56 \n",
      "\n",
      "U = 57 \n",
      "\n",
      "V = 58 \n",
      "\n",
      "W = 59 \n",
      "\n",
      "X = 60 \n",
      "\n",
      "Y = 61 \n",
      "\n",
      "Z = 62 \n",
      "\n",
      "! = 63 \n",
      "\n",
      "\" = 64 \n",
      "\n",
      "# = 65 \n",
      "\n",
      "$ = 66 \n",
      "\n",
      "% = 67 \n",
      "\n",
      "& = 68 \n",
      "\n",
      "' = 69 \n",
      "\n",
      "( = 70 \n",
      "\n",
      ") = 71 \n",
      "\n",
      "* = 72 \n",
      "\n",
      "+ = 73 \n",
      "\n",
      ", = 74 \n",
      "\n",
      "- = 75 \n",
      "\n",
      ". = 76 \n",
      "\n",
      "/ = 77 \n",
      "\n",
      ": = 78 \n",
      "\n",
      "; = 79 \n",
      "\n",
      "< = 80 \n",
      "\n",
      "= = 81 \n",
      "\n",
      "> = 82 \n",
      "\n",
      "? = 83 \n",
      "\n",
      "@ = 84 \n",
      "\n",
      "[ = 85 \n",
      "\n",
      "\\ = 86 \n",
      "\n",
      "] = 87 \n",
      "\n",
      "^ = 88 \n",
      "\n",
      "_ = 89 \n",
      "\n",
      "` = 90 \n",
      "\n",
      "{ = 91 \n",
      "\n",
      "| = 92 \n",
      "\n",
      "} = 93 \n",
      "\n",
      "~ = 94 \n",
      "\n",
      "  = 95 \n",
      "\n",
      "\t = 96 \n",
      "\n",
      "\n",
      " = 97 \n",
      "\n",
      "\r",
      " = 98 \n",
      "\n",
      "\u000b",
      " = 99 \n",
      "\n",
      "\f",
      " = 100 \n",
      "\n"
     ]
    }
   ],
   "source": [
    "character_encoding=[printable.index(x) + 1 for x in printable]\n",
    "for x in range(0,len(character_encoding)):\n",
    "  print(printable[x],\"=\",character_encoding[x],\"\\n\")"
   ]
  },
  {
   "cell_type": "code",
   "execution_count": 13,
   "metadata": {
    "colab": {
     "base_uri": "https://localhost:8080/"
    },
    "id": "EeBsvsF3PSNs",
    "outputId": "b52212e1-0a4d-43c3-a61f-f8e234382544"
   },
   "outputs": [
    {
     "name": "stdout",
     "output_type": "stream",
     "text": [
      "[18, 30, 30, 26, 29, 78, 77, 77, 33, 33, 33, 76, 11, 26, 26, 22, 15, 76, 13, 25, 23, 77]\n"
     ]
    }
   ],
   "source": [
    "url='https://www.apple.com/'\n",
    "encoded=[printable.index(x) + 1 for x in url if x in printable]\n",
    "print(encoded)"
   ]
  },
  {
   "cell_type": "markdown",
   "metadata": {
    "id": "xgviOiVA5qCI"
   },
   "source": [
    "# **Pre-processing**"
   ]
  },
  {
   "cell_type": "code",
   "execution_count": 14,
   "metadata": {
    "id": "bjYnayX6IkUp"
   },
   "outputs": [],
   "source": [
    "#1) encoding the characters in URL from 1 to 100, using nested list comprehension.\n",
    "url_encoded = [[printable.index(x) + 1 for x in url if x in printable] for url in df.URL]"
   ]
  },
  {
   "cell_type": "code",
   "execution_count": 15,
   "metadata": {
    "id": "B6Y2M9GcXVx5"
   },
   "outputs": [],
   "source": [
    "#2)Length normalization, The length of all URL's normalized at fixed length, if the (url length< fixed length) zeroes are added at front of the url,\n",
    "# if the (url length> fixed length) the etra character are intercepted from the end\n",
    "max_len=75\n",
    "X = pad_sequences(url_encoded, maxlen=max_len, truncating='post')"
   ]
  },
  {
   "cell_type": "code",
   "execution_count": 16,
   "metadata": {
    "colab": {
     "base_uri": "https://localhost:8080/"
    },
    "id": "7-if-Sa6Xx-U",
    "outputId": "b8f5ee0b-1733-4618-c109-d306353081d9"
   },
   "outputs": [
    {
     "data": {
      "text/plain": [
       "(549346, 75)"
      ]
     },
     "execution_count": 16,
     "metadata": {},
     "output_type": "execute_result"
    }
   ],
   "source": [
    "X.shape"
   ]
  },
  {
   "cell_type": "code",
   "execution_count": 17,
   "metadata": {},
   "outputs": [
    {
     "data": {
      "text/plain": [
       "array([[24, 25, 12, ..., 77, 32, 15],\n",
       "       [33, 33, 33, ..., 11, 14, 19],\n",
       "       [29, 15, 28, ...,  4,  3,  2],\n",
       "       ...,\n",
       "       [ 0,  0,  0, ..., 28, 17, 77],\n",
       "       [ 0,  0,  0, ..., 28, 17, 77],\n",
       "       [ 0,  0,  0, ..., 24, 16, 25]])"
      ]
     },
     "execution_count": 17,
     "metadata": {},
     "output_type": "execute_result"
    }
   ],
   "source": [
    "X"
   ]
  },
  {
   "cell_type": "code",
   "execution_count": 18,
   "metadata": {
    "id": "rlc3sobgXgLP"
   },
   "outputs": [],
   "source": [
    "y = np.array(df.Label)"
   ]
  },
  {
   "cell_type": "code",
   "execution_count": 19,
   "metadata": {
    "colab": {
     "base_uri": "https://localhost:8080/"
    },
    "id": "iCO3ZLHfXzzs",
    "outputId": "8502340d-935a-4cd5-f802-a1b448f0b835"
   },
   "outputs": [
    {
     "data": {
      "text/plain": [
       "(549346,)"
      ]
     },
     "execution_count": 19,
     "metadata": {},
     "output_type": "execute_result"
    }
   ],
   "source": [
    "y.shape"
   ]
  },
  {
   "cell_type": "markdown",
   "metadata": {
    "id": "SyRHJ33OMyet"
   },
   "source": [
    "# **Splitting-data**"
   ]
  },
  {
   "cell_type": "code",
   "execution_count": 20,
   "metadata": {
    "id": "2rDl3514Lv0J"
   },
   "outputs": [],
   "source": [
    "X_train, X_test, y_train, y_test = model_selection.train_test_split(X, y, test_size=0.2, random_state=33)\n",
    "X_test, X_val, y_test, y_val = model_selection.train_test_split(X_test, y_test, test_size=0.5, random_state=42)"
   ]
  },
  {
   "cell_type": "code",
   "execution_count": 21,
   "metadata": {},
   "outputs": [
    {
     "name": "stdout",
     "output_type": "stream",
     "text": [
      "Model: \"sequential\"\n",
      "_________________________________________________________________\n",
      " Layer (type)                Output Shape              Param #   \n",
      "=================================================================\n",
      " lstm (LSTM)                 (None, 64)                16896     \n",
      "                                                                 \n",
      " dense (Dense)               (None, 1)                 65        \n",
      "                                                                 \n",
      "=================================================================\n",
      "Total params: 16961 (66.25 KB)\n",
      "Trainable params: 16961 (66.25 KB)\n",
      "Non-trainable params: 0 (0.00 Byte)\n",
      "_________________________________________________________________\n"
     ]
    }
   ],
   "source": [
    "model = tf.keras.Sequential()\n",
    "model.add(layers.LSTM(64, input_shape=(75,1)))\n",
    "model.add(layers.Dense(1, activation = 'sigmoid'))\n",
    "model.summary()"
   ]
  },
  {
   "cell_type": "code",
   "execution_count": 22,
   "metadata": {
    "id": "_yEbKsdT1qnQ"
   },
   "outputs": [],
   "source": [
    "model.compile(loss=tf.keras.losses.BinaryCrossentropy(), optimizer = 'adam', metrics=['accuracy'])"
   ]
  },
  {
   "cell_type": "code",
   "execution_count": 23,
   "metadata": {},
   "outputs": [],
   "source": [
    "X_train = np.asarray(X_train).astype(np.float32)\n",
    "X_val = np.asarray(X_val).astype(np.float32)\n",
    "X_test = np.asarray(X_test).astype(np.float32)\n",
    "y_train = np.asarray(y_train).astype(np.float32)\n",
    "y_val = np.asarray(y_val).astype(np.float32)\n",
    "y_test = np.asarray(y_test).astype(np.float32)"
   ]
  },
  {
   "cell_type": "code",
   "execution_count": 24,
   "metadata": {},
   "outputs": [],
   "source": [
    "scaler = StandardScaler()\n",
    "X_train = scaler.fit_transform(X_train)\n",
    "X_test = scaler.transform(X_test)\n",
    "X_val = scaler.transform(X_val)"
   ]
  },
  {
   "cell_type": "code",
   "execution_count": 25,
   "metadata": {
    "colab": {
     "base_uri": "https://localhost:8080/"
    },
    "id": "33g3S_Xj2cOQ",
    "outputId": "880e8031-9aae-4c44-a105-3548cc081e7d",
    "scrolled": false
   },
   "outputs": [
    {
     "name": "stdout",
     "output_type": "stream",
     "text": [
      "Epoch 1/10\n",
      "13734/13734 [==============================] - 556s 40ms/step - loss: 0.4125 - accuracy: 0.8157 - val_loss: 0.3074 - val_accuracy: 0.8713\n",
      "Epoch 2/10\n",
      "13734/13734 [==============================] - 544s 40ms/step - loss: 0.2707 - accuracy: 0.8895 - val_loss: 0.2525 - val_accuracy: 0.8962\n",
      "Epoch 3/10\n",
      "13734/13734 [==============================] - 544s 40ms/step - loss: 0.2326 - accuracy: 0.9071 - val_loss: 0.2275 - val_accuracy: 0.9098\n",
      "Epoch 4/10\n",
      "13734/13734 [==============================] - 555s 40ms/step - loss: 0.2127 - accuracy: 0.9162 - val_loss: 0.2090 - val_accuracy: 0.9172\n",
      "Epoch 5/10\n",
      "13734/13734 [==============================] - 533s 39ms/step - loss: 0.1986 - accuracy: 0.9223 - val_loss: 0.2013 - val_accuracy: 0.9207\n",
      "Epoch 6/10\n",
      "13734/13734 [==============================] - 533s 39ms/step - loss: 0.1877 - accuracy: 0.9269 - val_loss: 0.1918 - val_accuracy: 0.9252\n",
      "Epoch 7/10\n",
      "13734/13734 [==============================] - 599s 44ms/step - loss: 0.1828 - accuracy: 0.9290 - val_loss: 0.1992 - val_accuracy: 0.9219\n",
      "Epoch 8/10\n",
      "13734/13734 [==============================] - 695s 51ms/step - loss: 0.1746 - accuracy: 0.9323 - val_loss: 0.1844 - val_accuracy: 0.9283\n",
      "Epoch 9/10\n",
      "13734/13734 [==============================] - 727s 53ms/step - loss: 0.1675 - accuracy: 0.9355 - val_loss: 0.1760 - val_accuracy: 0.9315\n",
      "Epoch 10/10\n",
      "13734/13734 [==============================] - 643s 47ms/step - loss: 0.1620 - accuracy: 0.9379 - val_loss: 0.1765 - val_accuracy: 0.9311\n"
     ]
    }
   ],
   "source": [
    "epochs = 10\n",
    "batch_size = 32\n",
    "\n",
    "his1=model.fit(X_train, y_train, epochs=epochs, batch_size=batch_size, validation_data=(X_val,y_val), callbacks=[tensorboard_callback])"
   ]
  },
  {
   "cell_type": "code",
   "execution_count": 26,
   "metadata": {},
   "outputs": [],
   "source": [
    "model.save('Mini_Proj_LSTM.keras')"
   ]
  },
  {
   "cell_type": "code",
   "execution_count": 27,
   "metadata": {
    "colab": {
     "base_uri": "https://localhost:8080/"
    },
    "id": "1kDakxlb-2XU",
    "outputId": "b02ce5aa-6c1a-42b7-ac6c-fa0f445681c8"
   },
   "outputs": [
    {
     "name": "stdout",
     "output_type": "stream",
     "text": [
      "1717/1717 [==============================] - 33s 19ms/step - loss: 0.1744 - accuracy: 0.9321\n",
      "\n",
      "Validation Accuracy 0.9320833683013916 \n",
      "\n"
     ]
    }
   ],
   "source": [
    "test_loss, test_accuracy = model.evaluate(X_test, y_test, verbose=1)\n",
    "\n",
    "print('\\nValidation Accuracy', test_accuracy, '\\n')"
   ]
  },
  {
   "cell_type": "code",
   "execution_count": 28,
   "metadata": {
    "colab": {
     "base_uri": "https://localhost:8080/"
    },
    "id": "i6z_bf-py1Dw",
    "outputId": "ebeae02e-6f03-4eb8-b056-fa3b7ed7818a",
    "scrolled": true
   },
   "outputs": [
    {
     "name": "stdout",
     "output_type": "stream",
     "text": [
      "1717/1717 [==============================] - 37s 21ms/step\n"
     ]
    }
   ],
   "source": [
    "predictions=model.predict(X_test)"
   ]
  },
  {
   "cell_type": "code",
   "execution_count": 29,
   "metadata": {},
   "outputs": [],
   "source": [
    "predictions = (predictions>=0.5).astype(int)"
   ]
  },
  {
   "cell_type": "code",
   "execution_count": 35,
   "metadata": {
    "colab": {
     "base_uri": "https://localhost:8080/"
    },
    "id": "EivezYp71pum",
    "outputId": "4f3b251f-daf9-4010-f850-4a091af584a1"
   },
   "outputs": [
    {
     "data": {
      "text/plain": [
       "(54935, 1)"
      ]
     },
     "execution_count": 35,
     "metadata": {},
     "output_type": "execute_result"
    }
   ],
   "source": [
    "predictions.shape"
   ]
  },
  {
   "cell_type": "code",
   "execution_count": 30,
   "metadata": {
    "colab": {
     "base_uri": "https://localhost:8080/"
    },
    "id": "RTHngenqzWBG",
    "outputId": "f64fc4c1-a986-4220-c4a2-061e746d3393"
   },
   "outputs": [
    {
     "data": {
      "text/plain": [
       "array([[13615,  2044],\n",
       "       [ 1687, 37589]], dtype=int64)"
      ]
     },
     "execution_count": 30,
     "metadata": {},
     "output_type": "execute_result"
    }
   ],
   "source": [
    "cm=confusion_matrix(y_test,predictions)\n",
    "cm"
   ]
  },
  {
   "cell_type": "code",
   "execution_count": null,
   "metadata": {
    "colab": {
     "base_uri": "https://localhost:8080/"
    },
    "id": "ZlawIuAe1j2h",
    "outputId": "4b679b96-1b9a-4e10-968b-d9a76fe3d03f"
   },
   "outputs": [
    {
     "data": {
      "text/plain": [
       "(7127,)"
      ]
     },
     "execution_count": 73,
     "metadata": {},
     "output_type": "execute_result"
    }
   ],
   "source": [
    "predictions.shape"
   ]
  },
  {
   "cell_type": "code",
   "execution_count": 31,
   "metadata": {
    "colab": {
     "base_uri": "https://localhost:8080/",
     "height": 449
    },
    "id": "yFNTRTpn2qRe",
    "outputId": "16d08718-6903-47f2-a2ef-7d57533da9a8"
   },
   "outputs": [
    {
     "data": {
      "image/png": "[encoded data removed]",
      "text/plain": [
       "<Figure size 640x480 with 2 Axes>"
      ]
     },
     "metadata": {},
     "output_type": "display_data"
    }
   ],
   "source": [
    "sns.heatmap(cm, annot=True, cmap='coolwarm',fmt='0.3f')\n",
    "plt.ylabel(\"Actual value\")\n",
    "plt.xlabel(\"Predicted value\")\n",
    "plt.show()"
   ]
  },
  {
   "cell_type": "code",
   "execution_count": 32,
   "metadata": {},
   "outputs": [
    {
     "data": {
      "text/plain": [
       "0.9320833712569401"
      ]
     },
     "execution_count": 32,
     "metadata": {},
     "output_type": "execute_result"
    }
   ],
   "source": [
    "accuracy = (cm[0][0]+cm[1][1])/(cm[0][0]+cm[1][1]+cm[0][1]+cm[1][0])\n",
    "accuracy"
   ]
  },
  {
   "cell_type": "code",
   "execution_count": 33,
   "metadata": {
    "colab": {
     "base_uri": "https://localhost:8080/"
    },
    "id": "UGWswdgi3pTh",
    "outputId": "da1f354f-f112-4968-8f5c-6eb93d6da3e6"
   },
   "outputs": [
    {
     "name": "stdout",
     "output_type": "stream",
     "text": [
      "              precision    recall  f1-score   support\n",
      "\n",
      "         0.0       0.89      0.87      0.88     15659\n",
      "         1.0       0.95      0.96      0.95     39276\n",
      "\n",
      "    accuracy                           0.93     54935\n",
      "   macro avg       0.92      0.91      0.92     54935\n",
      "weighted avg       0.93      0.93      0.93     54935\n",
      "\n"
     ]
    }
   ],
   "source": [
    "print(classification_report(y_test,predictions))"
   ]
  },
  {
   "cell_type": "code",
   "execution_count": 34,
   "metadata": {
    "colab": {
     "base_uri": "https://localhost:8080/"
    },
    "id": "7KnxHVxFHOtG",
    "outputId": "345184f3-a2a3-40e7-d833-db18274efc93"
   },
   "outputs": [
    {
     "data": {
      "text/plain": [
       "dict_keys(['loss', 'accuracy', 'val_loss', 'val_accuracy'])"
      ]
     },
     "execution_count": 34,
     "metadata": {},
     "output_type": "execute_result"
    }
   ],
   "source": [
    "h1=his1.history\n",
    "h1.keys()"
   ]
  },
  {
   "cell_type": "code",
   "execution_count": 35,
   "metadata": {
    "colab": {
     "base_uri": "https://localhost:8080/",
     "height": 472
    },
    "id": "-Z2S9w9OHTaq",
    "outputId": "bf661a38-1663-48d8-8a54-7a39e3625abd"
   },
   "outputs": [
    {
     "data": {
      "image/png": "[encoded data removed]",
      "text/plain": [
       "<Figure size 640x480 with 1 Axes>"
      ]
     },
     "metadata": {},
     "output_type": "display_data"
    }
   ],
   "source": [
    "# summarize history for accuracy\n",
    "plt.plot(h1['accuracy'])\n",
    "plt.plot(h1['val_accuracy'])\n",
    "plt.title('model accuracy')\n",
    "plt.ylabel('accuracy')\n",
    "plt.xlabel('epoch')\n",
    "plt.legend(['train', 'test'], loc='upper left')\n",
    "plt.show()"
   ]
  },
  {
   "cell_type": "code",
   "execution_count": 36,
   "metadata": {
    "colab": {
     "base_uri": "https://localhost:8080/",
     "height": 472
    },
    "id": "UKbIG7bJHajJ",
    "outputId": "874850e9-7ca4-4be4-e5ac-f5a283e5a47c"
   },
   "outputs": [
    {
     "data": {
      "image/png": "[encoded data removed]",
      "text/plain": [
       "<Figure size 640x480 with 1 Axes>"
      ]
     },
     "metadata": {},
     "output_type": "display_data"
    }
   ],
   "source": [
    "# summarize history for loss\n",
    "plt.plot(h1['loss'])\n",
    "plt.plot(h1['val_loss'])\n",
    "plt.title('model loss')\n",
    "plt.ylabel('loss')\n",
    "plt.xlabel('epoch')\n",
    "plt.legend(['train', 'test'], loc='upper left')\n",
    "plt.show()"
   ]
  },
  {
   "cell_type": "markdown",
   "metadata": {
    "id": "NbkYuXQohLeL"
   },
   "source": [
    "# ***TESTING***"
   ]
  },
  {
   "cell_type": "code",
   "execution_count": 37,
   "metadata": {
    "id": "51sboXTie4Vr"
   },
   "outputs": [],
   "source": [
    "def output_gru(url):\n",
    "  gru_model=load_model(\"Mini_Proj.keras\")\n",
    "  encoded_url=[[printable.index(x) + 1 for x in url if x in printable]]\n",
    "  max_len=75\n",
    "  preprocessed_url = pad_sequences(encoded_url, maxlen=max_len, truncating='post')\n",
    "  return np.argmax(gru_model.predict(preprocessed_url,batch_size=1)),gru_model.predict(preprocessed_url,batch_size=1)"
   ]
  },
  {
   "cell_type": "code",
   "execution_count": 38,
   "metadata": {
    "id": "aEC3jQhxoul3"
   },
   "outputs": [
    {
     "name": "stdout",
     "output_type": "stream",
     "text": [
      "1/1 [==============================] - 0s 167ms/step\n",
      "1/1 [==============================] - 0s 24ms/step\n"
     ]
    },
    {
     "data": {
      "text/plain": [
       "(0, array([[1.]], dtype=float32))"
      ]
     },
     "execution_count": 38,
     "metadata": {},
     "output_type": "execute_result"
    }
   ],
   "source": [
    "# Took a random website link from Phishtank which has all phishing links\n",
    "output_gru('enterspages.com/QC/St-Leonard-apartment.html')"
   ]
  },
  {
   "cell_type": "code",
   "execution_count": 39,
   "metadata": {
    "id": "gSUcDR5rhKPs"
   },
   "outputs": [],
   "source": [
    "cnn_gru_model=load_model(\"Mini_Proj_LSTM.keras\")"
   ]
  },
  {
   "cell_type": "code",
   "execution_count": 40,
   "metadata": {
    "id": "IlJKSzF2o53Q"
   },
   "outputs": [
    {
     "name": "stdout",
     "output_type": "stream",
     "text": [
      "Model: \"sequential\"\n",
      "_________________________________________________________________\n",
      " Layer (type)                Output Shape              Param #   \n",
      "=================================================================\n",
      " lstm (LSTM)                 (None, 64)                16896     \n",
      "                                                                 \n",
      " dense (Dense)               (None, 1)                 65        \n",
      "                                                                 \n",
      "=================================================================\n",
      "Total params: 16961 (66.25 KB)\n",
      "Trainable params: 16961 (66.25 KB)\n",
      "Non-trainable params: 0 (0.00 Byte)\n",
      "_________________________________________________________________\n"
     ]
    }
   ],
   "source": [
    "cnn_gru_model.summary()"
   ]
  },
  {
   "cell_type": "code",
   "execution_count": 41,
   "metadata": {
    "id": "VEZ9Vwa0hSjo"
   },
   "outputs": [
    {
     "name": "stdout",
     "output_type": "stream",
     "text": [
      "13734/13734 [==============================] - 200s 14ms/step - loss: 0.1577 - accuracy: 0.9401\n"
     ]
    },
    {
     "data": {
      "text/plain": [
       "[0.15771959722042084, 0.9401378035545349]"
      ]
     },
     "execution_count": 41,
     "metadata": {},
     "output_type": "execute_result"
    }
   ],
   "source": [
    "cnn_gru_model.evaluate(X_train,y_train,verbose=1)"
   ]
  },
  {
   "cell_type": "code",
   "execution_count": 46,
   "metadata": {
    "id": "3-qK-r65lqHw"
   },
   "outputs": [
    {
     "name": "stdout",
     "output_type": "stream",
     "text": [
      "1/1 [==============================] - 0s 48ms/step\n"
     ]
    },
    {
     "data": {
      "text/plain": [
       "array([[0.87177384]], dtype=float32)"
      ]
     },
     "execution_count": 46,
     "metadata": {},
     "output_type": "execute_result"
    }
   ],
   "source": [
    "test_url='https:\\\\www.google.com'\n",
    "encoded_url=[[printable.index(x) + 1 for x in test_url if x in printable]]\n",
    "max_len=75\n",
    "encoded_url = np.asarray(encoded_url).astype(np.float32)\n",
    "encoded_url = pad_sequences(encoded_url, maxlen=max_len, truncating='post')\n",
    "cnn_gru_model.predict(encoded_url,batch_size=1)"
   ]
  },
  {
   "cell_type": "code",
   "execution_count": 45,
   "metadata": {},
   "outputs": [
    {
     "name": "stdout",
     "output_type": "stream",
     "text": [
      "1/1 [==============================] - 0s 35ms/step\n"
     ]
    },
    {
     "data": {
      "text/plain": [
       "array([[0.25908574]], dtype=float32)"
      ]
     },
     "execution_count": 45,
     "metadata": {},
     "output_type": "execute_result"
    }
   ],
   "source": [
    "test_url='nobell.it/70ffb52d079109dca5664cce6f317373782/'\n",
    "encoded_url=[[printable.index(x) + 1 for x in test_url if x in printable]]\n",
    "max_len=75\n",
    "encoded_url = np.asarray(encoded_url).astype(np.float32)\n",
    "encoded_url = pad_sequences(encoded_url, maxlen=max_len, truncating='post')\n",
    "cnn_gru_model.predict(encoded_url,batch_size=1)"
   ]
  },
  {
   "cell_type": "code",
   "execution_count": 47,
   "metadata": {},
   "outputs": [
    {
     "name": "stdout",
     "output_type": "stream",
     "text": [
      "1/1 [==============================] - 0s 44ms/step\n"
     ]
    },
    {
     "data": {
      "text/plain": [
       "array([[0.4488583]], dtype=float32)"
      ]
     },
     "execution_count": 47,
     "metadata": {},
     "output_type": "execute_result"
    }
   ],
   "source": [
    "test_url='www.dghjdgf.com/paypal.co.uk/cycgi-bin/webscrcmd=_home-customer&nav=1/loading.php'\n",
    "encoded_url=[[printable.index(x) + 1 for x in test_url if x in printable]]\n",
    "max_len=75\n",
    "encoded_url = np.asarray(encoded_url).astype(np.float32)\n",
    "encoded_url = pad_sequences(encoded_url, maxlen=max_len, truncating='post')\n",
    "cnn_gru_model.predict(encoded_url,batch_size=1)"
   ]
  },
  {
   "cell_type": "code",
   "execution_count": 48,
   "metadata": {},
   "outputs": [
    {
     "name": "stdout",
     "output_type": "stream",
     "text": [
      "1/1 [==============================] - 0s 35ms/step\n"
     ]
    },
    {
     "data": {
      "text/plain": [
       "array([[0.8861712]], dtype=float32)"
      ]
     },
     "execution_count": 48,
     "metadata": {},
     "output_type": "execute_result"
    }
   ],
   "source": [
    "test_url='www.paypal.co.in'\n",
    "encoded_url=[[printable.index(x) + 1 for x in test_url if x in printable]]\n",
    "max_len=75\n",
    "encoded_url = np.asarray(encoded_url).astype(np.float32)\n",
    "encoded_url = pad_sequences(encoded_url, maxlen=max_len, truncating='post')\n",
    "cnn_gru_model.predict(encoded_url,batch_size=1)"
   ]
  }
 ],
 "metadata": {
  "accelerator": "GPU",
  "colab": {
   "gpuType": "T4",
   "provenance": []
  },
  "kernelspec": {
   "display_name": "Python 3 (ipykernel)",
   "language": "python",
   "name": "python3"
  },
  "language_info": {
   "codemirror_mode": {
    "name": "ipython",
    "version": 3
   },
   "file_extension": ".py",
   "mimetype": "text/x-python",
   "name": "python",
   "nbconvert_exporter": "python",
   "pygments_lexer": "ipython3",
   "version": "3.11.5"
  }
 },
 "nbformat": 4,
 "nbformat_minor": 1
}

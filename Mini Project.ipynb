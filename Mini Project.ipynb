{
 "cells": [
  {
   "cell_type": "markdown",
   "metadata": {
    "id": "tMSsLE25M2WS"
   },
   "source": [
    "# **Data**"
   ]
  },
  {
   "cell_type": "code",
   "execution_count": 32,
   "metadata": {
    "id": "mxD-WM7U4mOc"
   },
   "outputs": [],
   "source": [
    "import numpy as np\n",
    "import pandas as pd\n",
    "import seaborn as sns\n",
    "from keras.utils import pad_sequences,plot_model\n",
    "from sklearn import model_selection\n",
    "from sklearn.metrics import classification_report,confusion_matrix\n",
    "from string import printable\n",
    "from keras.callbacks import ModelCheckpoint,EarlyStopping\n",
    "from keras.models import Model,load_model\n",
    "from keras import regularizers\n",
    "from keras.layers import Dense, Dropout, Activation, Lambda, Flatten\n",
    "from keras.layers import Input, ELU, LSTM, Embedding, BatchNormalization, Conv1D, MaxPooling1D,GRU,SimpleRNN\n",
    "import matplotlib.pyplot as plt\n",
    "import tensorflow as tf\n",
    "from tensorflow.keras import layers, models\n",
    "from sklearn.model_selection import train_test_split\n",
    "from sklearn.preprocessing import StandardScaler\n",
    "from sklearn.metrics import accuracy_score, classification_report, confusion_matrix\n",
    "from tensorflow import keras\n",
    "%matplotlib inline"
   ]
  },
  {
   "cell_type": "code",
   "execution_count": 2,
   "metadata": {},
   "outputs": [],
   "source": [
    "import tensorboard\n",
    "from datetime import datetime\n",
    "from packaging import version"
   ]
  },
  {
   "cell_type": "code",
   "execution_count": 3,
   "metadata": {},
   "outputs": [],
   "source": [
    "# Define the Keras TensorBoard callback.\n",
    "logdir=\"logs/fit/\" + datetime.now().strftime(\"%Y%m%d-%H%M%S\")\n",
    "tensorboard_callback = tf.keras.callbacks.TensorBoard(log_dir=logdir)"
   ]
  },
  {
   "cell_type": "code",
   "execution_count": 4,
   "metadata": {
    "id": "O1I-utFVISdo"
   },
   "outputs": [],
   "source": [
    "df=pd.read_csv('phishing_site_urls.csv')"
   ]
  },
  {
   "cell_type": "code",
   "execution_count": 5,
   "metadata": {
    "colab": {
     "base_uri": "https://localhost:8080/"
    },
    "id": "Dj88yuW1IUug",
    "outputId": "3834e439-bcb1-47ab-eaf3-39ee642ca23a"
   },
   "outputs": [
    {
     "data": {
      "text/plain": [
       "(549346, 2)"
      ]
     },
     "execution_count": 5,
     "metadata": {},
     "output_type": "execute_result"
    }
   ],
   "source": [
    "df.shape"
   ]
  },
  {
   "cell_type": "code",
   "execution_count": 6,
   "metadata": {
    "colab": {
     "base_uri": "https://localhost:8080/",
     "height": 35
    },
    "id": "ZaTgbeR4l0n4",
    "outputId": "82325c0a-7c6c-472e-9d7a-1253446f2ef9"
   },
   "outputs": [
    {
     "data": {
      "text/plain": [
       "'www.dghjdgf.com/paypal.co.uk/cycgi-bin/webscrcmd=_home-customer&nav=1/loading.php'"
      ]
     },
     "execution_count": 6,
     "metadata": {},
     "output_type": "execute_result"
    }
   ],
   "source": [
    "df['URL'][1]"
   ]
  },
  {
   "cell_type": "code",
   "execution_count": 7,
   "metadata": {
    "colab": {
     "base_uri": "https://localhost:8080/"
    },
    "id": "sLbKNAd_AEV9",
    "outputId": "ea3cefe3-a1e3-47da-8614-acf0f0a91744"
   },
   "outputs": [
    {
     "data": {
      "text/plain": [
       "(549346, 2)"
      ]
     },
     "execution_count": 7,
     "metadata": {},
     "output_type": "execute_result"
    }
   ],
   "source": [
    "df.shape\n",
    "#smote function"
   ]
  },
  {
   "cell_type": "code",
   "execution_count": 8,
   "metadata": {
    "colab": {
     "base_uri": "https://localhost:8080/"
    },
    "id": "CJDeTtSAIXw9",
    "outputId": "70fa97b1-6689-41e3-cbe1-3c6bafcc49ac"
   },
   "outputs": [
    {
     "data": {
      "text/plain": [
       "URL      0\n",
       "Label    0\n",
       "dtype: int64"
      ]
     },
     "execution_count": 8,
     "metadata": {},
     "output_type": "execute_result"
    }
   ],
   "source": [
    "df.isnull().sum()"
   ]
  },
  {
   "cell_type": "code",
   "execution_count": 9,
   "metadata": {
    "colab": {
     "base_uri": "https://localhost:8080/"
    },
    "id": "ofi4MNVTIajM",
    "outputId": "29d13988-5548-48ab-fbdf-fbc6336271aa"
   },
   "outputs": [
    {
     "data": {
      "text/plain": [
       "Label\n",
       "good    392924\n",
       "bad     156422\n",
       "Name: count, dtype: int64"
      ]
     },
     "execution_count": 9,
     "metadata": {},
     "output_type": "execute_result"
    }
   ],
   "source": [
    "df['Label'].value_counts()"
   ]
  },
  {
   "cell_type": "code",
   "execution_count": 10,
   "metadata": {
    "colab": {
     "base_uri": "https://localhost:8080/",
     "height": 466
    },
    "id": "-w4PPdGXIbUD",
    "outputId": "bf25af93-2a3f-4a56-bd1b-25381c7e08f6"
   },
   "outputs": [
    {
     "name": "stderr",
     "output_type": "stream",
     "text": [
      "C:\\Users\\Aaditya\\anaconda3\\Lib\\site-packages\\seaborn\\_oldcore.py:1498: FutureWarning: is_categorical_dtype is deprecated and will be removed in a future version. Use isinstance(dtype, CategoricalDtype) instead\n",
      "  if pd.api.types.is_categorical_dtype(vector):\n",
      "C:\\Users\\Aaditya\\anaconda3\\Lib\\site-packages\\seaborn\\_oldcore.py:1498: FutureWarning: is_categorical_dtype is deprecated and will be removed in a future version. Use isinstance(dtype, CategoricalDtype) instead\n",
      "  if pd.api.types.is_categorical_dtype(vector):\n",
      "C:\\Users\\Aaditya\\anaconda3\\Lib\\site-packages\\seaborn\\_oldcore.py:1498: FutureWarning: is_categorical_dtype is deprecated and will be removed in a future version. Use isinstance(dtype, CategoricalDtype) instead\n",
      "  if pd.api.types.is_categorical_dtype(vector):\n"
     ]
    },
    {
     "data": {
      "text/plain": [
       "<Axes: xlabel='Label', ylabel='count'>"
      ]
     },
     "execution_count": 10,
     "metadata": {},
     "output_type": "execute_result"
    },
    {
     "data": {
      "image/png": "[encoded data removed]",
      "text/plain": [
       "<Figure size 640x480 with 1 Axes>"
      ]
     },
     "metadata": {},
     "output_type": "display_data"
    }
   ],
   "source": [
    "sns.countplot(x='Label', data=df)"
   ]
  },
  {
   "cell_type": "code",
   "execution_count": 11,
   "metadata": {},
   "outputs": [
    {
     "data": {
      "text/html": [
       "<div>\n",
       "<style scoped>\n",
       "    .dataframe tbody tr th:only-of-type {\n",
       "        vertical-align: middle;\n",
       "    }\n",
       "\n",
       "    .dataframe tbody tr th {\n",
       "        vertical-align: top;\n",
       "    }\n",
       "\n",
       "    .dataframe thead th {\n",
       "        text-align: right;\n",
       "    }\n",
       "</style>\n",
       "<table border=\"1\" class=\"dataframe\">\n",
       "  <thead>\n",
       "    <tr style=\"text-align: right;\">\n",
       "      <th></th>\n",
       "      <th>URL</th>\n",
       "      <th>Label</th>\n",
       "    </tr>\n",
       "  </thead>\n",
       "  <tbody>\n",
       "    <tr>\n",
       "      <th>0</th>\n",
       "      <td>nobell.it/70ffb52d079109dca5664cce6f317373782/...</td>\n",
       "      <td>0</td>\n",
       "    </tr>\n",
       "    <tr>\n",
       "      <th>1</th>\n",
       "      <td>www.dghjdgf.com/paypal.co.uk/cycgi-bin/webscrc...</td>\n",
       "      <td>0</td>\n",
       "    </tr>\n",
       "    <tr>\n",
       "      <th>2</th>\n",
       "      <td>serviciosbys.com/paypal.cgi.bin.get-into.herf....</td>\n",
       "      <td>0</td>\n",
       "    </tr>\n",
       "    <tr>\n",
       "      <th>3</th>\n",
       "      <td>mail.printakid.com/www.online.americanexpress....</td>\n",
       "      <td>0</td>\n",
       "    </tr>\n",
       "    <tr>\n",
       "      <th>4</th>\n",
       "      <td>thewhiskeydregs.com/wp-content/themes/widescre...</td>\n",
       "      <td>0</td>\n",
       "    </tr>\n",
       "  </tbody>\n",
       "</table>\n",
       "</div>"
      ],
      "text/plain": [
       "                                                 URL Label\n",
       "0  nobell.it/70ffb52d079109dca5664cce6f317373782/...     0\n",
       "1  www.dghjdgf.com/paypal.co.uk/cycgi-bin/webscrc...     0\n",
       "2  serviciosbys.com/paypal.cgi.bin.get-into.herf....     0\n",
       "3  mail.printakid.com/www.online.americanexpress....     0\n",
       "4  thewhiskeydregs.com/wp-content/themes/widescre...     0"
      ]
     },
     "execution_count": 11,
     "metadata": {},
     "output_type": "execute_result"
    }
   ],
   "source": [
    "df.loc[df[\"Label\"] == \"bad\", \"Label\"] = 0\n",
    "df.head()"
   ]
  },
  {
   "cell_type": "code",
   "execution_count": 12,
   "metadata": {},
   "outputs": [
    {
     "data": {
      "text/plain": [
       "Label\n",
       "1    392924\n",
       "0    156422\n",
       "Name: count, dtype: int64"
      ]
     },
     "execution_count": 12,
     "metadata": {},
     "output_type": "execute_result"
    }
   ],
   "source": [
    "df.loc[df[\"Label\"] == \"good\", \"Label\"] = 1\n",
    "df.Label.value_counts()"
   ]
  },
  {
   "cell_type": "code",
   "execution_count": 13,
   "metadata": {
    "colab": {
     "base_uri": "https://localhost:8080/"
    },
    "id": "vkPzVw_HAPvJ",
    "outputId": "ae1ec0bd-e06b-4e05-f799-39dd9d80f7c7"
   },
   "outputs": [
    {
     "data": {
      "text/html": [
       "<div>\n",
       "<style scoped>\n",
       "    .dataframe tbody tr th:only-of-type {\n",
       "        vertical-align: middle;\n",
       "    }\n",
       "\n",
       "    .dataframe tbody tr th {\n",
       "        vertical-align: top;\n",
       "    }\n",
       "\n",
       "    .dataframe thead th {\n",
       "        text-align: right;\n",
       "    }\n",
       "</style>\n",
       "<table border=\"1\" class=\"dataframe\">\n",
       "  <thead>\n",
       "    <tr style=\"text-align: right;\">\n",
       "      <th></th>\n",
       "      <th>URL</th>\n",
       "      <th>Label</th>\n",
       "    </tr>\n",
       "  </thead>\n",
       "  <tbody>\n",
       "    <tr>\n",
       "      <th>0</th>\n",
       "      <td>nobell.it/70ffb52d079109dca5664cce6f317373782/...</td>\n",
       "      <td>0</td>\n",
       "    </tr>\n",
       "    <tr>\n",
       "      <th>1</th>\n",
       "      <td>www.dghjdgf.com/paypal.co.uk/cycgi-bin/webscrc...</td>\n",
       "      <td>0</td>\n",
       "    </tr>\n",
       "    <tr>\n",
       "      <th>2</th>\n",
       "      <td>serviciosbys.com/paypal.cgi.bin.get-into.herf....</td>\n",
       "      <td>0</td>\n",
       "    </tr>\n",
       "    <tr>\n",
       "      <th>3</th>\n",
       "      <td>mail.printakid.com/www.online.americanexpress....</td>\n",
       "      <td>0</td>\n",
       "    </tr>\n",
       "    <tr>\n",
       "      <th>4</th>\n",
       "      <td>thewhiskeydregs.com/wp-content/themes/widescre...</td>\n",
       "      <td>0</td>\n",
       "    </tr>\n",
       "  </tbody>\n",
       "</table>\n",
       "</div>"
      ],
      "text/plain": [
       "                                                 URL Label\n",
       "0  nobell.it/70ffb52d079109dca5664cce6f317373782/...     0\n",
       "1  www.dghjdgf.com/paypal.co.uk/cycgi-bin/webscrc...     0\n",
       "2  serviciosbys.com/paypal.cgi.bin.get-into.herf....     0\n",
       "3  mail.printakid.com/www.online.americanexpress....     0\n",
       "4  thewhiskeydregs.com/wp-content/themes/widescre...     0"
      ]
     },
     "execution_count": 13,
     "metadata": {},
     "output_type": "execute_result"
    }
   ],
   "source": [
    "df.head()"
   ]
  },
  {
   "cell_type": "markdown",
   "metadata": {
    "id": "k_VarkZS5DQS"
   },
   "source": [
    "# example preprocessing"
   ]
  },
  {
   "cell_type": "code",
   "execution_count": 14,
   "metadata": {
    "colab": {
     "base_uri": "https://localhost:8080/",
     "height": 35
    },
    "id": "B5sRM1UDOSKw",
    "outputId": "77b34af3-2512-4d20-e2a9-ff072a95f73f"
   },
   "outputs": [
    {
     "data": {
      "text/plain": [
       "'0123456789abcdefghijklmnopqrstuvwxyzABCDEFGHIJKLMNOPQRSTUVWXYZ!\"#$%&\\'()*+,-./:;<=>?@[\\\\]^_`{|}~ \\t\\n\\r\\x0b\\x0c'"
      ]
     },
     "execution_count": 14,
     "metadata": {},
     "output_type": "execute_result"
    }
   ],
   "source": [
    "printable"
   ]
  },
  {
   "cell_type": "code",
   "execution_count": 15,
   "metadata": {
    "colab": {
     "base_uri": "https://localhost:8080/"
    },
    "id": "b4v0an4OOeM-",
    "outputId": "d6e86eec-bb71-4e14-b609-14e311a0a0be"
   },
   "outputs": [
    {
     "name": "stdout",
     "output_type": "stream",
     "text": [
      "0 = 1 \n",
      "\n",
      "1 = 2 \n",
      "\n",
      "2 = 3 \n",
      "\n",
      "3 = 4 \n",
      "\n",
      "4 = 5 \n",
      "\n",
      "5 = 6 \n",
      "\n",
      "6 = 7 \n",
      "\n",
      "7 = 8 \n",
      "\n",
      "8 = 9 \n",
      "\n",
      "9 = 10 \n",
      "\n",
      "a = 11 \n",
      "\n",
      "b = 12 \n",
      "\n",
      "c = 13 \n",
      "\n",
      "d = 14 \n",
      "\n",
      "e = 15 \n",
      "\n",
      "f = 16 \n",
      "\n",
      "g = 17 \n",
      "\n",
      "h = 18 \n",
      "\n",
      "i = 19 \n",
      "\n",
      "j = 20 \n",
      "\n",
      "k = 21 \n",
      "\n",
      "l = 22 \n",
      "\n",
      "m = 23 \n",
      "\n",
      "n = 24 \n",
      "\n",
      "o = 25 \n",
      "\n",
      "p = 26 \n",
      "\n",
      "q = 27 \n",
      "\n",
      "r = 28 \n",
      "\n",
      "s = 29 \n",
      "\n",
      "t = 30 \n",
      "\n",
      "u = 31 \n",
      "\n",
      "v = 32 \n",
      "\n",
      "w = 33 \n",
      "\n",
      "x = 34 \n",
      "\n",
      "y = 35 \n",
      "\n",
      "z = 36 \n",
      "\n",
      "A = 37 \n",
      "\n",
      "B = 38 \n",
      "\n",
      "C = 39 \n",
      "\n",
      "D = 40 \n",
      "\n",
      "E = 41 \n",
      "\n",
      "F = 42 \n",
      "\n",
      "G = 43 \n",
      "\n",
      "H = 44 \n",
      "\n",
      "I = 45 \n",
      "\n",
      "J = 46 \n",
      "\n",
      "K = 47 \n",
      "\n",
      "L = 48 \n",
      "\n",
      "M = 49 \n",
      "\n",
      "N = 50 \n",
      "\n",
      "O = 51 \n",
      "\n",
      "P = 52 \n",
      "\n",
      "Q = 53 \n",
      "\n",
      "R = 54 \n",
      "\n",
      "S = 55 \n",
      "\n",
      "T = 56 \n",
      "\n",
      "U = 57 \n",
      "\n",
      "V = 58 \n",
      "\n",
      "W = 59 \n",
      "\n",
      "X = 60 \n",
      "\n",
      "Y = 61 \n",
      "\n",
      "Z = 62 \n",
      "\n",
      "! = 63 \n",
      "\n",
      "\" = 64 \n",
      "\n",
      "# = 65 \n",
      "\n",
      "$ = 66 \n",
      "\n",
      "% = 67 \n",
      "\n",
      "& = 68 \n",
      "\n",
      "' = 69 \n",
      "\n",
      "( = 70 \n",
      "\n",
      ") = 71 \n",
      "\n",
      "* = 72 \n",
      "\n",
      "+ = 73 \n",
      "\n",
      ", = 74 \n",
      "\n",
      "- = 75 \n",
      "\n",
      ". = 76 \n",
      "\n",
      "/ = 77 \n",
      "\n",
      ": = 78 \n",
      "\n",
      "; = 79 \n",
      "\n",
      "< = 80 \n",
      "\n",
      "= = 81 \n",
      "\n",
      "> = 82 \n",
      "\n",
      "? = 83 \n",
      "\n",
      "@ = 84 \n",
      "\n",
      "[ = 85 \n",
      "\n",
      "\\ = 86 \n",
      "\n",
      "] = 87 \n",
      "\n",
      "^ = 88 \n",
      "\n",
      "_ = 89 \n",
      "\n",
      "` = 90 \n",
      "\n",
      "{ = 91 \n",
      "\n",
      "| = 92 \n",
      "\n",
      "} = 93 \n",
      "\n",
      "~ = 94 \n",
      "\n",
      "  = 95 \n",
      "\n",
      "\t = 96 \n",
      "\n",
      "\n",
      " = 97 \n",
      "\n",
      "\r",
      " = 98 \n",
      "\n",
      "\u000b",
      " = 99 \n",
      "\n",
      "\f",
      " = 100 \n",
      "\n"
     ]
    }
   ],
   "source": [
    "# character encoding using printable library in following way.\n",
    "\n",
    "character_encoding=[printable.index(x) + 1 for x in printable]\n",
    "for x in range(0,len(character_encoding)):\n",
    "  print(printable[x],\"=\",character_encoding[x],\"\\n\")"
   ]
  },
  {
   "cell_type": "code",
   "execution_count": 16,
   "metadata": {
    "colab": {
     "base_uri": "https://localhost:8080/"
    },
    "id": "EeBsvsF3PSNs",
    "outputId": "b52212e1-0a4d-43c3-a61f-f8e234382544"
   },
   "outputs": [
    {
     "name": "stdout",
     "output_type": "stream",
     "text": [
      "[18, 30, 30, 26, 29, 78, 77, 77, 33, 33, 33, 76, 11, 26, 26, 22, 15, 76, 13, 25, 23, 77]\n"
     ]
    }
   ],
   "source": [
    "# example\n",
    "\n",
    "url='https://www.apple.com/'\n",
    "encoded=[printable.index(x) + 1 for x in url if x in printable]\n",
    "print(encoded)"
   ]
  },
  {
   "cell_type": "markdown",
   "metadata": {
    "id": "xgviOiVA5qCI"
   },
   "source": [
    "# **Pre-processing**"
   ]
  },
  {
   "cell_type": "code",
   "execution_count": 18,
   "metadata": {
    "id": "bjYnayX6IkUp"
   },
   "outputs": [],
   "source": [
    "#1) encoding the characters in URL from 1 to 100, using nested list comprehension.\n",
    "url_encoded = [[printable.index(x) + 1 for x in url if x in printable] for url in df.URL]"
   ]
  },
  {
   "cell_type": "code",
   "execution_count": 19,
   "metadata": {
    "id": "B6Y2M9GcXVx5"
   },
   "outputs": [],
   "source": [
    "#2)Length normalization, The length of all URL's normalized at fixed length, if the (url length< fixed length) zeroes are added at front of the url,\n",
    "# if the (url length> fixed length) the etra character are intercepted from the end\n",
    "max_len=75\n",
    "X = pad_sequences(url_encoded, maxlen=max_len, truncating='post')"
   ]
  },
  {
   "cell_type": "code",
   "execution_count": 20,
   "metadata": {
    "colab": {
     "base_uri": "https://localhost:8080/"
    },
    "id": "7-if-Sa6Xx-U",
    "outputId": "b8f5ee0b-1733-4618-c109-d306353081d9"
   },
   "outputs": [
    {
     "data": {
      "text/plain": [
       "(549346, 75)"
      ]
     },
     "execution_count": 20,
     "metadata": {},
     "output_type": "execute_result"
    }
   ],
   "source": [
    "X.shape"
   ]
  },
  {
   "cell_type": "code",
   "execution_count": 21,
   "metadata": {
    "id": "rlc3sobgXgLP"
   },
   "outputs": [],
   "source": [
    "y = np.array(df.Label)"
   ]
  },
  {
   "cell_type": "markdown",
   "metadata": {
    "id": "SyRHJ33OMyet"
   },
   "source": [
    "# **Splitting-data**"
   ]
  },
  {
   "cell_type": "code",
   "execution_count": 22,
   "metadata": {
    "id": "2rDl3514Lv0J"
   },
   "outputs": [],
   "source": [
    "X_train, X_test, y_train, y_test = model_selection.train_test_split(X, y, test_size=0.2, random_state=33)\n",
    "X_test, X_val, y_test, y_val = model_selection.train_test_split(X_test, y_test, test_size=0.5, random_state=42)"
   ]
  },
  {
   "cell_type": "code",
   "execution_count": 23,
   "metadata": {
    "id": "R41SwFTs06H7"
   },
   "outputs": [],
   "source": [
    "model = models.Sequential([\n",
    "    layers.Input(shape=X_train.shape[1]),\n",
    "    layers.Dense(128, activation = 'relu'),\n",
    "    layers.Dense(64, activation = 'relu'),\n",
    "    layers.Dense(32, activation='relu'),\n",
    "    layers.Dense(16, activation = 'relu'),\n",
    "    layers.Dense(8, activation = 'relu'),\n",
    "    layers.Dense(4, activation = 'relu'),\n",
    "    layers.Dense(2, activation = 'relu'),\n",
    "    layers.Dense(1, activation='sigmoid')\n",
    "])"
   ]
  },
  {
   "cell_type": "code",
   "execution_count": 24,
   "metadata": {
    "colab": {
     "base_uri": "https://localhost:8080/"
    },
    "id": "gVzlHWvt9Y6p",
    "outputId": "7739c4f0-171e-497f-ee52-706295259120"
   },
   "outputs": [
    {
     "name": "stdout",
     "output_type": "stream",
     "text": [
      "Model: \"sequential\"\n",
      "_________________________________________________________________\n",
      " Layer (type)                Output Shape              Param #   \n",
      "=================================================================\n",
      " dense (Dense)               (None, 128)               9728      \n",
      "                                                                 \n",
      " dense_1 (Dense)             (None, 64)                8256      \n",
      "                                                                 \n",
      " dense_2 (Dense)             (None, 32)                2080      \n",
      "                                                                 \n",
      " dense_3 (Dense)             (None, 16)                528       \n",
      "                                                                 \n",
      " dense_4 (Dense)             (None, 8)                 136       \n",
      "                                                                 \n",
      " dense_5 (Dense)             (None, 4)                 36        \n",
      "                                                                 \n",
      " dense_6 (Dense)             (None, 2)                 10        \n",
      "                                                                 \n",
      " dense_7 (Dense)             (None, 1)                 3         \n",
      "                                                                 \n",
      "=================================================================\n",
      "Total params: 20777 (81.16 KB)\n",
      "Trainable params: 20777 (81.16 KB)\n",
      "Non-trainable params: 0 (0.00 Byte)\n",
      "_________________________________________________________________\n"
     ]
    }
   ],
   "source": [
    "model.summary()"
   ]
  },
  {
   "cell_type": "code",
   "execution_count": 25,
   "metadata": {
    "id": "_yEbKsdT1qnQ"
   },
   "outputs": [],
   "source": [
    "model.compile(optimizer='adam', loss='binary_crossentropy', metrics=['accuracy'])"
   ]
  },
  {
   "cell_type": "code",
   "execution_count": 26,
   "metadata": {},
   "outputs": [],
   "source": [
    "X_train = np.asarray(X_train).astype(np.float32)\n",
    "X_val = np.asarray(X_val).astype(np.float32)\n",
    "X_test = np.asarray(X_test).astype(np.float32)\n",
    "y_train = np.asarray(y_train).astype(np.float32)\n",
    "y_val = np.asarray(y_val).astype(np.float32)\n",
    "y_test = np.asarray(y_test).astype(np.float32)"
   ]
  },
  {
   "cell_type": "code",
   "execution_count": 27,
   "metadata": {},
   "outputs": [],
   "source": [
    "scaler = StandardScaler()\n",
    "X_train = scaler.fit_transform(X_train)\n",
    "X_test = scaler.transform(X_test)\n",
    "X_val = scaler.transform(X_val)"
   ]
  },
  {
   "cell_type": "code",
   "execution_count": 28,
   "metadata": {},
   "outputs": [
    {
     "data": {
      "text/plain": [
       "array([[ 6.791132  ,  2.332711  ,  0.7313883 , ..., -0.8171056 ,\n",
       "         0.77074844,  1.4612862 ],\n",
       "       [-0.36425358, -0.3884847 , -0.38161582, ..., -1.4109876 ,\n",
       "        -1.2975391 , -1.0863243 ],\n",
       "       [-0.36425358, -0.3884847 , -0.38161582, ..., -0.6851318 ,\n",
       "         3.5974083 , -0.5243514 ],\n",
       "       ...,\n",
       "       [-0.36425358, -0.3884847 , -0.38161582, ..., -0.8171056 ,\n",
       "        -0.67705286, -0.22463256],\n",
       "       [ 2.0208747 ,  3.1609008 ,  2.3503034 , ..., -0.553158  ,\n",
       "        -0.67705286, -0.18716769],\n",
       "       [ 2.6430824 ,  3.1609008 ,  2.6538498 , ...,  3.5380292 ,\n",
       "        -0.2633953 , -0.4494217 ]], dtype=float32)"
      ]
     },
     "execution_count": 28,
     "metadata": {},
     "output_type": "execute_result"
    }
   ],
   "source": [
    "X_train"
   ]
  },
  {
   "cell_type": "code",
   "execution_count": 33,
   "metadata": {},
   "outputs": [],
   "source": [
    "early_stopping = keras.callbacks.EarlyStopping(patience=10, restore_best_weights=True)"
   ]
  },
  {
   "cell_type": "code",
   "execution_count": 34,
   "metadata": {
    "colab": {
     "base_uri": "https://localhost:8080/"
    },
    "id": "33g3S_Xj2cOQ",
    "outputId": "880e8031-9aae-4c44-a105-3548cc081e7d"
   },
   "outputs": [
    {
     "name": "stdout",
     "output_type": "stream",
     "text": [
      "Epoch 1/30\n",
      "13734/13734 [==============================] - 83s 6ms/step - loss: 0.2772 - accuracy: 0.8877 - val_loss: 0.3014 - val_accuracy: 0.8786\n",
      "Epoch 2/30\n",
      "13734/13734 [==============================] - 86s 6ms/step - loss: 0.2732 - accuracy: 0.8893 - val_loss: 0.3027 - val_accuracy: 0.8787\n",
      "Epoch 3/30\n",
      "13734/13734 [==============================] - 87s 6ms/step - loss: 0.2693 - accuracy: 0.8911 - val_loss: 0.2976 - val_accuracy: 0.8783\n",
      "Epoch 4/30\n",
      "13734/13734 [==============================] - 80s 6ms/step - loss: 0.2662 - accuracy: 0.8924 - val_loss: 0.2983 - val_accuracy: 0.8792\n",
      "Epoch 5/30\n",
      "13734/13734 [==============================] - 80s 6ms/step - loss: 0.2637 - accuracy: 0.8937 - val_loss: 0.3008 - val_accuracy: 0.8792\n",
      "Epoch 6/30\n",
      "13734/13734 [==============================] - 81s 6ms/step - loss: 0.2613 - accuracy: 0.8949 - val_loss: 0.2991 - val_accuracy: 0.8808\n",
      "Epoch 7/30\n",
      "13734/13734 [==============================] - 81s 6ms/step - loss: 0.2584 - accuracy: 0.8964 - val_loss: 0.2983 - val_accuracy: 0.8790\n",
      "Epoch 8/30\n",
      "13734/13734 [==============================] - 80s 6ms/step - loss: 0.2559 - accuracy: 0.8971 - val_loss: 0.2968 - val_accuracy: 0.8789\n",
      "Epoch 9/30\n",
      "13734/13734 [==============================] - 83s 6ms/step - loss: 0.2541 - accuracy: 0.8980 - val_loss: 0.2981 - val_accuracy: 0.8805\n",
      "Epoch 10/30\n",
      "13734/13734 [==============================] - 84s 6ms/step - loss: 0.2523 - accuracy: 0.8991 - val_loss: 0.2972 - val_accuracy: 0.8797\n",
      "Epoch 11/30\n",
      "13734/13734 [==============================] - 85s 6ms/step - loss: 0.2504 - accuracy: 0.9001 - val_loss: 0.3005 - val_accuracy: 0.8793\n",
      "Epoch 12/30\n",
      "13734/13734 [==============================] - 80s 6ms/step - loss: 0.2483 - accuracy: 0.9008 - val_loss: 0.3014 - val_accuracy: 0.8792\n",
      "Epoch 13/30\n",
      "13734/13734 [==============================] - 81s 6ms/step - loss: 0.2469 - accuracy: 0.9016 - val_loss: 0.2959 - val_accuracy: 0.8834\n",
      "Epoch 14/30\n",
      "13734/13734 [==============================] - 78s 6ms/step - loss: 0.2450 - accuracy: 0.9024 - val_loss: 0.3010 - val_accuracy: 0.8813\n",
      "Epoch 15/30\n",
      "13734/13734 [==============================] - 81s 6ms/step - loss: 0.2437 - accuracy: 0.9025 - val_loss: 0.2946 - val_accuracy: 0.8825\n",
      "Epoch 16/30\n",
      "13734/13734 [==============================] - 83s 6ms/step - loss: 0.2428 - accuracy: 0.9032 - val_loss: 0.2982 - val_accuracy: 0.8821\n",
      "Epoch 17/30\n",
      "13734/13734 [==============================] - 75s 5ms/step - loss: 0.2410 - accuracy: 0.9040 - val_loss: 0.2979 - val_accuracy: 0.8822\n",
      "Epoch 18/30\n",
      "13734/13734 [==============================] - 68s 5ms/step - loss: 0.2395 - accuracy: 0.9046 - val_loss: 0.2968 - val_accuracy: 0.8824\n",
      "Epoch 19/30\n",
      "13734/13734 [==============================] - 72s 5ms/step - loss: 0.2384 - accuracy: 0.9051 - val_loss: 0.3040 - val_accuracy: 0.8801\n",
      "Epoch 20/30\n",
      "13734/13734 [==============================] - 78s 6ms/step - loss: 0.2375 - accuracy: 0.9056 - val_loss: 0.2928 - val_accuracy: 0.8849\n",
      "Epoch 21/30\n",
      "13734/13734 [==============================] - 76s 6ms/step - loss: 0.2362 - accuracy: 0.9063 - val_loss: 0.2970 - val_accuracy: 0.8843\n",
      "Epoch 22/30\n",
      "13734/13734 [==============================] - 77s 6ms/step - loss: 0.2352 - accuracy: 0.9067 - val_loss: 0.2997 - val_accuracy: 0.8826\n",
      "Epoch 23/30\n",
      "13734/13734 [==============================] - 67s 5ms/step - loss: 0.2339 - accuracy: 0.9072 - val_loss: 0.3002 - val_accuracy: 0.8824\n",
      "Epoch 24/30\n",
      "13734/13734 [==============================] - 78s 6ms/step - loss: 0.2332 - accuracy: 0.9078 - val_loss: 0.2927 - val_accuracy: 0.8854\n",
      "Epoch 25/30\n",
      "13734/13734 [==============================] - 78s 6ms/step - loss: 0.2325 - accuracy: 0.9079 - val_loss: 0.3007 - val_accuracy: 0.8836\n",
      "Epoch 26/30\n",
      "13734/13734 [==============================] - 78s 6ms/step - loss: 0.2314 - accuracy: 0.9083 - val_loss: 0.2960 - val_accuracy: 0.8852\n",
      "Epoch 27/30\n",
      "13734/13734 [==============================] - 76s 6ms/step - loss: 0.2305 - accuracy: 0.9090 - val_loss: 0.2963 - val_accuracy: 0.8844\n",
      "Epoch 28/30\n",
      "13734/13734 [==============================] - 66s 5ms/step - loss: 0.2296 - accuracy: 0.9088 - val_loss: 0.3018 - val_accuracy: 0.8823\n",
      "Epoch 29/30\n",
      "13734/13734 [==============================] - 66s 5ms/step - loss: 0.2289 - accuracy: 0.9094 - val_loss: 0.2954 - val_accuracy: 0.8853\n",
      "Epoch 30/30\n",
      "13734/13734 [==============================] - 65s 5ms/step - loss: 0.2285 - accuracy: 0.9097 - val_loss: 0.3062 - val_accuracy: 0.8830\n"
     ]
    }
   ],
   "source": [
    "epochs = 30\n",
    "batch_size = 32\n",
    "\n",
    "his1=model.fit(X_train, y_train, epochs=epochs, batch_size=batch_size, validation_data=(X_val,y_val), callbacks=[early_stopping])"
   ]
  },
  {
   "cell_type": "code",
   "execution_count": null,
   "metadata": {},
   "outputs": [],
   "source": [
    "model.save('Mini_Proj.keras')"
   ]
  },
  {
   "cell_type": "code",
   "execution_count": null,
   "metadata": {
    "colab": {
     "base_uri": "https://localhost:8080/"
    },
    "id": "1kDakxlb-2XU",
    "outputId": "b02ce5aa-6c1a-42b7-ac6c-fa0f445681c8"
   },
   "outputs": [],
   "source": [
    "test_loss, test_accuracy = model.evaluate(X_test, y_test, verbose=1)\n",
    "\n",
    "print('\\nValidation Accuracy', test_accuracy, '\\n')"
   ]
  },
  {
   "cell_type": "code",
   "execution_count": null,
   "metadata": {
    "colab": {
     "base_uri": "https://localhost:8080/"
    },
    "id": "_tZ_DF4uGZ8L",
    "outputId": "d51f9413-0ed5-4fbe-a87b-29e714fcf37e"
   },
   "outputs": [],
   "source": [
    "train_loss, train_accuracy = model.evaluate(X_train, y_train, verbose=1)\n",
    "print(\"accuracy on train data\",train_accuracy)"
   ]
  },
  {
   "cell_type": "code",
   "execution_count": null,
   "metadata": {
    "colab": {
     "base_uri": "https://localhost:8080/"
    },
    "id": "i6z_bf-py1Dw",
    "outputId": "ebeae02e-6f03-4eb8-b056-fa3b7ed7818a",
    "scrolled": true
   },
   "outputs": [],
   "source": [
    "predictions=model.predict(X_test)"
   ]
  },
  {
   "cell_type": "code",
   "execution_count": null,
   "metadata": {},
   "outputs": [],
   "source": [
    "predictions = (predictions>=0.5).astype(int)"
   ]
  },
  {
   "cell_type": "code",
   "execution_count": null,
   "metadata": {
    "colab": {
     "base_uri": "https://localhost:8080/"
    },
    "id": "EivezYp71pum",
    "outputId": "4f3b251f-daf9-4010-f850-4a091af584a1"
   },
   "outputs": [],
   "source": [
    "predictions.shape"
   ]
  },
  {
   "cell_type": "code",
   "execution_count": null,
   "metadata": {
    "colab": {
     "base_uri": "https://localhost:8080/"
    },
    "id": "RTHngenqzWBG",
    "outputId": "f64fc4c1-a986-4220-c4a2-061e746d3393"
   },
   "outputs": [],
   "source": [
    "cm=confusion_matrix(y_test,predictions)\n",
    "cm"
   ]
  },
  {
   "cell_type": "code",
   "execution_count": null,
   "metadata": {
    "colab": {
     "base_uri": "https://localhost:8080/"
    },
    "id": "P9jlJwxQ1v8s",
    "outputId": "95a4fb6d-737a-47c3-ff7e-a141c46f7dd3"
   },
   "outputs": [],
   "source": [
    "y_test.shape"
   ]
  },
  {
   "cell_type": "code",
   "execution_count": null,
   "metadata": {
    "id": "-G-tU0g11UFM"
   },
   "outputs": [],
   "source": [
    "x=[]\n",
    "for i in y_pred:\n",
    "  x.append(np.argmax(i))\n",
    "y_pred1=np.array(x)"
   ]
  },
  {
   "cell_type": "code",
   "execution_count": null,
   "metadata": {
    "colab": {
     "base_uri": "https://localhost:8080/"
    },
    "id": "ZlawIuAe1j2h",
    "outputId": "4b679b96-1b9a-4e10-968b-d9a76fe3d03f"
   },
   "outputs": [],
   "source": [
    "predictions.shape"
   ]
  },
  {
   "cell_type": "code",
   "execution_count": null,
   "metadata": {
    "colab": {
     "base_uri": "https://localhost:8080/"
    },
    "id": "ZSF7wUafzH98",
    "outputId": "26118020-4f20-4f85-9900-034452821e66"
   },
   "outputs": [],
   "source": [
    "print(np.argmax(y_pred[22]))"
   ]
  },
  {
   "cell_type": "code",
   "execution_count": null,
   "metadata": {
    "colab": {
     "base_uri": "https://localhost:8080/"
    },
    "id": "hfdZ6i642jNZ",
    "outputId": "994d9543-3866-4623-ac74-13664e28c02f"
   },
   "outputs": [],
   "source": [
    "print(y_pred1[22])"
   ]
  },
  {
   "cell_type": "code",
   "execution_count": null,
   "metadata": {
    "colab": {
     "base_uri": "https://localhost:8080/"
    },
    "id": "PYhB3rGPzQZd",
    "outputId": "95de3fde-6a2d-4905-bb7c-6adb1519f68f"
   },
   "outputs": [],
   "source": [
    "y_test[22]"
   ]
  },
  {
   "cell_type": "code",
   "execution_count": null,
   "metadata": {
    "colab": {
     "base_uri": "https://localhost:8080/",
     "height": 449
    },
    "id": "yFNTRTpn2qRe",
    "outputId": "16d08718-6903-47f2-a2ef-7d57533da9a8"
   },
   "outputs": [],
   "source": [
    "sns.heatmap(cm, annot=True, cmap='coolwarm',fmt='0.3f')\n",
    "plt.ylabel(\"Actual value\")\n",
    "plt.xlabel(\"Predicted value\")\n",
    "plt.show()"
   ]
  },
  {
   "cell_type": "code",
   "execution_count": null,
   "metadata": {},
   "outputs": [],
   "source": [
    "accuracy = (cm[0][0]+cm[1][1])/(cm[0][0]+cm[1][1]+cm[0][1]+cm[1][0])\n",
    "accuracy"
   ]
  },
  {
   "cell_type": "code",
   "execution_count": null,
   "metadata": {
    "colab": {
     "base_uri": "https://localhost:8080/"
    },
    "id": "UGWswdgi3pTh",
    "outputId": "da1f354f-f112-4968-8f5c-6eb93d6da3e6"
   },
   "outputs": [],
   "source": [
    "print(classification_report(y_test,predictions))"
   ]
  },
  {
   "cell_type": "code",
   "execution_count": null,
   "metadata": {
    "colab": {
     "base_uri": "https://localhost:8080/",
     "height": 1000
    },
    "id": "RNyeUVzuMNrk",
    "outputId": "180f98f0-dd2b-4a33-c5d4-3b7bf1b8bb76"
   },
   "outputs": [],
   "source": [
    "from keras.utils import plot_model\n",
    "plot_model(model,show_shapes=True,to_file='gru_model.png')"
   ]
  },
  {
   "cell_type": "code",
   "execution_count": null,
   "metadata": {
    "colab": {
     "base_uri": "https://localhost:8080/"
    },
    "id": "7KnxHVxFHOtG",
    "outputId": "345184f3-a2a3-40e7-d833-db18274efc93"
   },
   "outputs": [],
   "source": [
    "h1=his1.history\n",
    "h1.keys()"
   ]
  },
  {
   "cell_type": "code",
   "execution_count": null,
   "metadata": {
    "colab": {
     "base_uri": "https://localhost:8080/",
     "height": 472
    },
    "id": "-Z2S9w9OHTaq",
    "outputId": "bf661a38-1663-48d8-8a54-7a39e3625abd"
   },
   "outputs": [],
   "source": [
    "# summarize history for accuracy\n",
    "plt.plot(h1['accuracy'])\n",
    "plt.plot(h1['val_accuracy'])\n",
    "plt.title('model accuracy')\n",
    "plt.ylabel('accuracy')\n",
    "plt.xlabel('epoch')\n",
    "plt.legend(['train', 'test'], loc='upper left')\n",
    "plt.show()"
   ]
  },
  {
   "cell_type": "code",
   "execution_count": null,
   "metadata": {
    "colab": {
     "base_uri": "https://localhost:8080/",
     "height": 472
    },
    "id": "UKbIG7bJHajJ",
    "outputId": "874850e9-7ca4-4be4-e5ac-f5a283e5a47c"
   },
   "outputs": [],
   "source": [
    "# summarize history for loss\n",
    "plt.plot(h1['loss'])\n",
    "plt.plot(h1['val_loss'])\n",
    "plt.title('model loss')\n",
    "plt.ylabel('loss')\n",
    "plt.xlabel('epoch')\n",
    "plt.legend(['train', 'test'], loc='upper left')\n",
    "plt.show()"
   ]
  },
  {
   "cell_type": "markdown",
   "metadata": {
    "id": "NbkYuXQohLeL"
   },
   "source": [
    "# ***TESTING***"
   ]
  },
  {
   "cell_type": "code",
   "execution_count": null,
   "metadata": {
    "id": "51sboXTie4Vr"
   },
   "outputs": [],
   "source": [
    "def output_gru(url):\n",
    "  gru_model=load_model(\"Mini_Proj.keras\")\n",
    "  encoded_url=[[printable.index(x) + 1 for x in url if x in printable]]\n",
    "  max_len=75\n",
    "  preprocessed_url = pad_sequences(encoded_url, maxlen=max_len, truncating='post')\n",
    "  return np.argmax(gru_model.predict(preprocessed_url,batch_size=1)),gru_model.predict(preprocessed_url,batch_size=1)"
   ]
  },
  {
   "cell_type": "code",
   "execution_count": null,
   "metadata": {
    "id": "aEC3jQhxoul3"
   },
   "outputs": [],
   "source": [
    "# Took a random website link from Phishtank which has all phishing links\n",
    "output_gru('enterspages.com/QC/St-Leonard-apartment.html')"
   ]
  },
  {
   "cell_type": "code",
   "execution_count": null,
   "metadata": {
    "id": "gSUcDR5rhKPs"
   },
   "outputs": [],
   "source": [
    "cnn_gru_model=load_model(\"Mini_Proj.keras\")"
   ]
  },
  {
   "cell_type": "code",
   "execution_count": null,
   "metadata": {
    "id": "IlJKSzF2o53Q"
   },
   "outputs": [],
   "source": [
    "cnn_gru_model.summary()"
   ]
  },
  {
   "cell_type": "code",
   "execution_count": null,
   "metadata": {
    "id": "VEZ9Vwa0hSjo"
   },
   "outputs": [],
   "source": [
    "cnn_gru_model.evaluate(X_train,y_train,verbose=1)"
   ]
  },
  {
   "cell_type": "code",
   "execution_count": null,
   "metadata": {},
   "outputs": [],
   "source": [
    "test_url='https:\\\\www.google.com'\n",
    "encoded_url=[[printable.index(x) + 1 for x in test_url if x in printable]]\n",
    "max_len=75\n",
    "encoded_url = np.asarray(encoded_url).astype(np.float32)\n",
    "encoded_url = pad_sequences(encoded_url, maxlen=max_len, truncating='post')\n",
    "cnn_gru_model.predict(encoded_url,batch_size=1)"
   ]
  },
  {
   "cell_type": "code",
   "execution_count": null,
   "metadata": {},
   "outputs": [],
   "source": [
    "test_url='www.dghjdgf.com/paypal.co.uk/cycgi-bin/webscrcmd=_home-customer&nav=1/loading.php'\n",
    "encoded_url=[[printable.index(x) + 1 for x in test_url if x in printable]]\n",
    "max_len=75\n",
    "encoded_url = np.asarray(encoded_url).astype(np.float32)\n",
    "encoded_url = pad_sequences(encoded_url, maxlen=max_len, truncating='post')\n",
    "cnn_gru_model.predict(encoded_url,batch_size=1)"
   ]
  }
 ],
 "metadata": {
  "accelerator": "GPU",
  "colab": {
   "gpuType": "T4",
   "provenance": []
  },
  "kernelspec": {
   "display_name": "Python 3 (ipykernel)",
   "language": "python",
   "name": "python3"
  },
  "language_info": {
   "codemirror_mode": {
    "name": "ipython",
    "version": 3
   },
   "file_extension": ".py",
   "mimetype": "text/x-python",
   "name": "python",
   "nbconvert_exporter": "python",
   "pygments_lexer": "ipython3",
   "version": "3.11.5"
  }
 },
 "nbformat": 4,
 "nbformat_minor": 1
}
